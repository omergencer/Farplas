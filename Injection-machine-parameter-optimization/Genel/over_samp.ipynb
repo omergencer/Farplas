{
 "cells": [
  {
   "cell_type": "code",
   "execution_count": 1,
   "source": [
    "import pandas as pd\n",
    "import seaborn as sns\n",
    "import warnings\n",
    "import imblearn\n",
    "import matplotlib as plt\n",
    "import numpy as np, pandas as pd, seaborn as sns, matplotlib.pyplot as plt, warnings, os.path\n",
    "from sklearn import preprocessing\n",
    "from sklearn import metrics\n",
    "from sklearn.model_selection import train_test_split\n",
    "from sklearn.metrics import accuracy_score,confusion_matrix,classification_report\n",
    "from sklearn.metrics import precision_score, recall_score, accuracy_score\n",
    "from sklearn.ensemble import RandomForestClassifier\n",
    "warnings.filterwarnings(\"ignore\")\n"
   ],
   "outputs": [],
   "metadata": {}
  },
  {
   "cell_type": "code",
   "execution_count": 2,
   "source": [
    "df = pd.read_csv(\"360_inj_cyc_e114_deneme.csv\")"
   ],
   "outputs": [],
   "metadata": {}
  },
  {
   "cell_type": "code",
   "execution_count": 3,
   "source": [
    "df['reason'] = df['reason'].replace(['[]'],0)\n",
    "df['reason'][df['reason'] != 0] = 1\n",
    "df = df.astype({\"reason\": int})\n"
   ],
   "outputs": [],
   "metadata": {}
  },
  {
   "cell_type": "code",
   "execution_count": 4,
   "source": [
    "drop_list = ['Unnamed: 0', 'date', 'cntCycle','stsMachine','timestamp','sfc','decMold','prsInjectionHyd1','prsTransferHyd1','strCushion1','strPlasticisation1','strTransfer1']"
   ],
   "outputs": [],
   "metadata": {}
  },
  {
   "cell_type": "code",
   "execution_count": 5,
   "source": [
    "df = df.drop(drop_list, axis=1)\n",
    "df = df.fillna(df.mean())"
   ],
   "outputs": [],
   "metadata": {}
  },
  {
   "cell_type": "code",
   "execution_count": 9,
   "source": [
    "cols = list(df.columns)\n",
    "for x in cols:\n",
    "    print(x+ \", \", end=\"\")"
   ],
   "outputs": [
    {
     "output_type": "stream",
     "name": "stdout",
     "text": [
      "tmpMoldZone25, timCool1, tmpBarrel2Zone3, tmpMoldZone3, tmpBarrel2Zone4, tmpFlange1, tmpMoldZone4, tmpBarrel2Zone1, tmpFlange2, tmpMoldZone1, volCushion1, tmpBarrel2Zone2, tmpMoldZone2, volCushion2, prsBackSpec2, prsBackSpec1, spdInjection1, tmpMoldZone9, spdInjection2, tmpMoldZone7, tmpMoldZone8, tmpOil, tmpMoldZone5, tmpMoldZone6, tmpMoldZone19, tmpMoldZone18, volTransfer2, tmpMoldZone15, volTransfer1, tmpMoldZone14, tmpMoldZone17, tmpMoldZone16, timTransfer2, timTransfer1, velPlasticisation2, velPlasticisation1, timMoldClose, tmpBarrel1Zone5, tmpMoldZone22, tmpBarrel1Zone4, tmpMoldZone21, tmpMoldZone24, tmpBarrel1Zone6, tmpMoldZone23, prsPomp1, tmpBarrel1Zone1, prsPomp2, tmpBarrel1Zone3, tmpMoldZone20, tmpBarrel1Zone2, volShot1, volPlasticisation2, volShot2, volPlasticisation1, timFill1, timFill2, timMoldOpen, tmpMoldZone11, tmpMoldZone10, tmpMoldZone13, tmpMoldZone12, prsHoldSpec2, tmpNozle2, prsHoldSpec1, tmpNozle1, prsTransferSpec2, prsTransferSpec1, prsInjectionSpec1, prsInjectionSpec2, timCycle, frcClamp, timPlasticisation1, timPlasticisation2, reason, "
     ]
    }
   ],
   "metadata": {}
  },
  {
   "cell_type": "code",
   "execution_count": 6,
   "source": [
    "#Class count\n",
    "count_class_0, count_class_1 = df.reason.value_counts()\n",
    "#Divide by class\n",
    "df_class_0 = df[df['reason'] == 0]\n",
    "df_class_1 = df[df['reason'] == 1]"
   ],
   "outputs": [],
   "metadata": {}
  },
  {
   "cell_type": "code",
   "execution_count": 7,
   "source": [
    "y = df['reason']\n",
    "X = df.drop(['reason'], axis=1)"
   ],
   "outputs": [],
   "metadata": {}
  },
  {
   "cell_type": "code",
   "execution_count": 8,
   "source": [
    "from imblearn.over_sampling import RandomOverSampler\n",
    "ros = RandomOverSampler(random_state=0)\n",
    "X_resampled, y_resampled = ros.fit_resample(X, y)"
   ],
   "outputs": [
    {
     "output_type": "stream",
     "name": "stdout",
     "text": [
      "[(0, 39645), (1, 39645)]\n"
     ]
    }
   ],
   "metadata": {}
  },
  {
   "cell_type": "code",
   "execution_count": 9,
   "source": [
    "from sklearn.svm import LinearSVC\n",
    "clf = LinearSVC()\n",
    "clf.fit(X_resampled, y_resampled) # doctest : +ELLIPSIS"
   ],
   "outputs": [
    {
     "output_type": "execute_result",
     "data": {
      "text/plain": [
       "LinearSVC()"
      ]
     },
     "metadata": {},
     "execution_count": 9
    }
   ],
   "metadata": {}
  },
  {
   "cell_type": "code",
   "execution_count": 17,
   "source": [
    "print(len(X),len(X_resampled))\n",
    "print(len(y),len(y_resampled))\n",
    "\n"
   ],
   "outputs": [
    {
     "output_type": "stream",
     "name": "stdout",
     "text": [
      "<bound method DataFrame.count of        tmpMoldZone25  timCool1  tmpBarrel2Zone3  tmpMoldZone3  \\\n",
      "0              235.0     44.02            230.3         254.8   \n",
      "1              224.9     37.44            238.3         264.5   \n",
      "2              225.0     37.44            238.2         264.5   \n",
      "3              225.0     37.44            238.2         264.5   \n",
      "4              225.0     37.44            238.3         264.5   \n",
      "...              ...       ...              ...           ...   \n",
      "79285         3276.7     53.02             49.1         210.0   \n",
      "79286         3276.7     49.05             48.9         209.9   \n",
      "79287         3276.7     50.02             46.3         209.9   \n",
      "79288         3276.7     53.02             54.1         210.0   \n",
      "79289         3276.7     50.02             49.3         210.0   \n",
      "\n",
      "       tmpBarrel2Zone4  tmpFlange1  tmpMoldZone4  tmpBarrel2Zone1  tmpFlange2  \\\n",
      "0                229.9       250.1         255.0            235.1       235.1   \n",
      "1                237.9       250.6         265.0            248.0       248.5   \n",
      "2                238.0       249.4         265.0            248.0       249.0   \n",
      "3                238.0       249.8         265.0            248.0       247.5   \n",
      "4                237.9       251.1         265.0            248.1       248.1   \n",
      "...                ...         ...           ...              ...         ...   \n",
      "79285             44.5       230.0         210.0             52.5        51.0   \n",
      "79286             45.6       230.9         210.0             51.3        50.8   \n",
      "79287             41.9       230.3         210.1             49.6        49.0   \n",
      "79288             48.2       230.2         210.0             57.3        53.7   \n",
      "79289             45.3       224.6         209.9             50.7        48.7   \n",
      "\n",
      "       tmpMoldZone1  ...  prsHoldSpec1  tmpNozle1  prsTransferSpec2  \\\n",
      "0             254.9  ...        1221.8      250.6            1948.7   \n",
      "1             264.2  ...        1159.8      251.7            1942.3   \n",
      "2             264.3  ...        1182.6      254.7            1940.6   \n",
      "3             264.2  ...        1182.2      249.8            1940.0   \n",
      "4             264.2  ...        1170.7      249.7            1941.6   \n",
      "...             ...  ...           ...        ...               ...   \n",
      "79285         203.9  ...        1142.5      215.3            1952.7   \n",
      "79286         214.9  ...        1144.7      215.5            1943.3   \n",
      "79287         207.9  ...        1165.6      214.7            1952.7   \n",
      "79288         203.8  ...        1142.4      214.7            1952.7   \n",
      "79289         214.9  ...        1421.0      209.7            1941.0   \n",
      "\n",
      "       prsTransferSpec1  prsInjectionSpec1  prsInjectionSpec2  timCycle  \\\n",
      "0                1239.1             1239.1             1951.5     85.13   \n",
      "1                1184.9             1184.9             1942.6     78.16   \n",
      "2                1185.2             1185.2             1942.3     79.07   \n",
      "3                1184.7             1184.7             1943.3     79.07   \n",
      "4                1185.3             1185.3             1942.1     79.03   \n",
      "...                 ...                ...                ...       ...   \n",
      "79285            1119.2             1430.1             1956.1     85.17   \n",
      "79286            1146.6             1589.8             1944.9     78.96   \n",
      "79287            1163.1             1540.7             1956.1     80.02   \n",
      "79288            1141.3             1430.3             1956.1     85.21   \n",
      "79289            1463.2             1480.9             1943.1     79.71   \n",
      "\n",
      "       frcClamp  timPlasticisation1  timPlasticisation2  \n",
      "0        7925.7                5.84               24.18  \n",
      "1        7149.7                7.31               33.39  \n",
      "2        7147.9                7.38               32.96  \n",
      "3        7142.5                7.34               32.80  \n",
      "4        7191.0                7.35               32.92  \n",
      "...         ...                 ...                 ...  \n",
      "79285    5252.5               16.60               23.98  \n",
      "79286    4724.3               23.35               34.40  \n",
      "79287    4802.2               23.42               23.98  \n",
      "79288    5227.9               16.76               23.98  \n",
      "79289    4405.0               23.41               34.91  \n",
      "\n",
      "[79290 rows x 73 columns]>\n"
     ]
    }
   ],
   "metadata": {}
  },
  {
   "cell_type": "code",
   "execution_count": 10,
   "source": [
    "X = X_resampled\n",
    "y = y_resampled"
   ],
   "outputs": [],
   "metadata": {}
  },
  {
   "cell_type": "code",
   "execution_count": null,
   "source": [],
   "outputs": [],
   "metadata": {}
  },
  {
   "cell_type": "code",
   "execution_count": 11,
   "source": [
    "X_train, X_val, y_train, y_val = train_test_split(X, y, test_size=0.2, random_state=42, shuffle=True)"
   ],
   "outputs": [],
   "metadata": {}
  },
  {
   "cell_type": "code",
   "execution_count": 12,
   "source": [
    "np.any(np.isnan(X_train))"
   ],
   "outputs": [
    {
     "output_type": "execute_result",
     "data": {
      "text/plain": [
       "False"
      ]
     },
     "metadata": {},
     "execution_count": 12
    }
   ],
   "metadata": {}
  },
  {
   "cell_type": "code",
   "execution_count": 13,
   "source": [
    "X_train = X_train.fillna(X_train.mean())"
   ],
   "outputs": [],
   "metadata": {}
  },
  {
   "cell_type": "code",
   "execution_count": 14,
   "source": [
    "#Random Forest with 'entropy' criterion\n",
    "\n",
    "rf2=RandomForestClassifier(n_estimators=100, criterion='entropy',random_state=3)\n",
    "model = rf2.fit(X_train,y_train)\n",
    "y_rf2=rf2.predict(X_val)\n",
    "y_rf_prob2=rf2.predict_proba(X_val)[:,1]\n",
    "\n",
    "#Performance metrics evaluation\n",
    "print(\"Confusion Matrix:\\n\",metrics.confusion_matrix(y_val,y_rf2))\n",
    "print(\"Accuracy:\\n\",metrics.accuracy_score(y_val,y_rf2))\n",
    "print(\"Precision:\\n\",metrics.precision_score(y_val,y_rf2))\n",
    "print(\"Recall:\\n\",metrics.recall_score(y_val,y_rf2))\n",
    "print(\"AUC:\\n\",metrics.roc_auc_score(y_val,y_rf_prob2))\n",
    "auc=metrics.roc_auc_score(y_val,y_rf_prob2)\n",
    "\n",
    "#plotting the ROC curve\n",
    "fpr,tpr,thresholds=metrics.roc_curve(y_val,y_rf_prob2)\n",
    "plt.plot(fpr,tpr,'b', label='AUC = %0.2f'% auc)\n",
    "plt.plot([0,1],[0,1],'r-.')\n",
    "plt.xlim([-0.2,1.2])\n",
    "plt.ylim([-0.2,1.2])\n",
    "plt.title('Receiver Operating Characteristic\\nRandom Forest')\n",
    "plt.legend(loc='lower right')\n",
    "plt.ylabel('True Positive Rate')\n",
    "plt.xlabel('False Positive Rate')\n",
    "plt.show()"
   ],
   "outputs": [
    {
     "output_type": "stream",
     "name": "stdout",
     "text": [
      "Confusion Matrix:\n",
      " [[7897   38]\n",
      " [   1 7922]]\n",
      "Accuracy:\n",
      " 0.9975406734771094\n",
      "Precision:\n",
      " 0.9952261306532664\n",
      "Recall:\n",
      " 0.9998737851823805\n",
      "AUC:\n",
      " 0.99998656730769\n"
     ]
    },
    {
     "output_type": "display_data",
     "data": {
      "text/plain": [
       "<Figure size 432x288 with 1 Axes>"
      ],
      "image/png": "[encoded data removed]"
     },
     "metadata": {
      "needs_background": "light"
     }
    }
   ],
   "metadata": {}
  },
  {
   "cell_type": "code",
   "execution_count": 15,
   "source": [
    "cm = metrics.confusion_matrix(y_val,y_rf2)\n",
    "classNames = ['NOK','OK']\n",
    "from sklearn.metrics import ConfusionMatrixDisplay\n",
    "disp = ConfusionMatrixDisplay(confusion_matrix=cm,display_labels=classNames)\n",
    "disp.plot(cmap=plt.cm.Blues)"
   ],
   "outputs": [
    {
     "output_type": "execute_result",
     "data": {
      "text/plain": [
       "<sklearn.metrics._plot.confusion_matrix.ConfusionMatrixDisplay at 0x7f3bbc5bbe20>"
      ]
     },
     "metadata": {},
     "execution_count": 15
    },
    {
     "output_type": "display_data",
     "data": {
      "text/plain": [
       "<Figure size 432x288 with 2 Axes>"
      ],
      "image/png": "[encoded data removed]"
     },
     "metadata": {
      "needs_background": "light"
     }
    }
   ],
   "metadata": {}
  },
  {
   "cell_type": "code",
   "execution_count": 16,
   "source": [
    "threshold = 0.9\n",
    "y_rf_prob2_val = rf2.predict_proba(X_val)[:,1]\n",
    "prob_thresh = (y_rf_prob2_val>=threshold).astype('int')\n",
    "CM_2_Thresh = confusion_matrix(y_val,prob_thresh)\n",
    "print(\"Confusion Matrix:\\n\", CM_2_Thresh)\n",
    "print(\"Accuracy:\\n\",metrics.accuracy_score(y_val,prob_thresh))\n",
    "print(\"Precision:\\n\",metrics.precision_score(y_val,prob_thresh))\n",
    "print(\"Recall:\\n\",metrics.recall_score(y_val,prob_thresh))\n",
    "print(\"AUC:\\n\",metrics.roc_auc_score(y_val,prob_thresh))\n",
    "\n",
    "auc=metrics.roc_auc_score(y_val,prob_thresh)\n",
    "\n",
    "#plotting the ROC curve\n",
    "fpr,tpr,thresholds=metrics.roc_curve(y_val,prob_thresh)\n",
    "plt.plot(fpr,tpr,'b', label='AUC = %0.2f'% auc)\n",
    "plt.plot([0,1],[0,1],'r-.')\n",
    "plt.xlim([-0.2,1.2])\n",
    "plt.ylim([-0.2,1.2])\n",
    "plt.title('Receiver Operating Characteristic\\nRandom Forest')\n",
    "plt.legend(loc='lower right')\n",
    "plt.ylabel('True Positive Rate')\n",
    "plt.xlabel('False Positive Rate')\n",
    "plt.show()"
   ],
   "outputs": [
    {
     "output_type": "stream",
     "name": "stdout",
     "text": [
      "Confusion Matrix:\n",
      " [[7934    1]\n",
      " [  60 7863]]\n",
      "Accuracy:\n",
      " 0.9961533610795813\n",
      "Precision:\n",
      " 0.9998728382502543\n",
      "Recall:\n",
      " 0.9924271109428247\n",
      "AUC:\n",
      " 0.9961505434991376\n"
     ]
    },
    {
     "output_type": "display_data",
     "data": {
      "text/plain": [
       "<Figure size 432x288 with 1 Axes>"
      ],
      "image/png": "[encoded data removed]"
     },
     "metadata": {
      "needs_background": "light"
     }
    }
   ],
   "metadata": {}
  }
 ],
 "metadata": {
  "interpreter": {
   "hash": "916dbcbb3f70747c44a77c7bcd40155683ae19c65e1c03b4aa3499c5328201f1"
  },
  "kernelspec": {
   "name": "python3",
   "display_name": "Python 3.9.5 64-bit"
  },
  "language_info": {
   "codemirror_mode": {
    "name": "ipython",
    "version": 3
   },
   "file_extension": ".py",
   "mimetype": "text/x-python",
   "name": "python",
   "nbconvert_exporter": "python",
   "pygments_lexer": "ipython3",
   "version": "3.9.5"
  },
  "orig_nbformat": 4
 },
 "nbformat": 4,
 "nbformat_minor": 2
}