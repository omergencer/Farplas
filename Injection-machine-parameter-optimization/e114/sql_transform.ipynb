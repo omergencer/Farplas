{
 "cells": [
  {
   "cell_type": "code",
   "execution_count": 1,
   "source": [
    "import pymysql, joblib,os, pandas as pd#, RPi.GPIO as io\n",
    "from time import sleep\n",
    "from glob import glob"
   ],
   "outputs": [],
   "metadata": {}
  },
  {
   "cell_type": "code",
   "execution_count": 2,
   "source": [
    "def connect():\n",
    "    db = pymysql.connect(host = \"192.168.7.17\", port = 3306, db = \"kepware\", user = \"nifiuser\", passwd = \"nHuSx6Y!\")\n",
    "    cursor = db.cursor()\n",
    "    cursor.execute(\"SELECT tmpMoldZone25, timCool1, tmpBarrel2Zone3, tmpMoldZone3, tmpBarrel2Zone4, tmpFlange1, tmpMoldZone4, tmpBarrel2Zone1, tmpFlange2, tmpMoldZone1, volCushion1, tmpBarrel2Zone2, tmpMoldZone2, volCushion2, prsBackSpec2, prsBackSpec1, spdInjection1, tmpMoldZone9, spdInjection2, tmpMoldZone7, tmpMoldZone8, tmpOil, tmpMoldZone5, tmpMoldZone6, tmpMoldZone19, tmpMoldZone18, volTransfer2, tmpMoldZone15, volTransfer1, tmpMoldZone14, tmpMoldZone17, tmpMoldZone16, timTransfer2, timTransfer1, velPlasticisation2, velPlasticisation1, timMoldClose, tmpBarrel1Zone5, tmpMoldZone22, tmpBarrel1Zone4, tmpMoldZone21, tmpMoldZone24, tmpBarrel1Zone6, tmpMoldZone23, prsPomp1, tmpBarrel1Zone1, prsPomp2, tmpBarrel1Zone3, tmpMoldZone20, tmpBarrel1Zone2, volShot1, volPlasticisation2, volShot2, volPlasticisation1, timFill1, timFill2, timMoldOpen, tmpMoldZone11, tmpMoldZone10, tmpMoldZone13, tmpMoldZone12, prsHoldSpec2, tmpNozle2, prsHoldSpec1, tmpNozle1, prsTransferSpec2, prsTransferSpec1, prsInjectionSpec1, prsInjectionSpec2, timCycle, frcClamp, timPlasticisation1, timPlasticisation2 FROM e114 ORDER BY timestamp DESC LIMIT 1\")\n",
    "    val = cursor.fetchall()\n",
    "    db.close()\n",
    "    return val"
   ],
   "outputs": [],
   "metadata": {}
  },
  {
   "cell_type": "code",
   "execution_count": 6,
   "source": [
    "def transform(data):\n",
    "    data = pd.DataFrame(data)\n",
    "    data = scaler.transform(data)\n",
    "    #data = pd.DataFrame(data)\n",
    "    #print('data2: '+str(data))\n",
    "    return rf2.predict_proba(data)"
   ],
   "outputs": [],
   "metadata": {}
  },
  {
   "cell_type": "code",
   "execution_count": 4,
   "source": [
    "#Standart\n",
    "rf2 = joblib.load(glob('/home/farplas/Desktop/Injection-machine-parameter-optimization/e114/model/Standard_model_*')[0])\n",
    "scaler = joblib.load(glob(\"/home/farplas/Desktop/Injection-machine-parameter-optimization/e114/scaler/Standard_scaler_*\")[0])\n"
   ],
   "outputs": [],
   "metadata": {}
  },
  {
   "cell_type": "code",
   "execution_count": 4,
   "source": [
    "#MM\n",
    "rf2 = joblib.load(glob('/home/farplas/Desktop/Injection-machine-parameter-optimization/e114/model/MM_model_*')[0])\n",
    "scaler = joblib.load(glob(\"/home/farplas/Desktop/Injection-machine-parameter-optimization/e114/scaler/MM_scaler_*\")[0])\n",
    "\n"
   ],
   "outputs": [],
   "metadata": {}
  },
  {
   "cell_type": "code",
   "execution_count": 7,
   "source": [
    "old_val = None\n",
    "while True:\n",
    "    val = connect()\n",
    "    if val != old_val:\n",
    "        old_val = val\n",
    "        res = transform(val)\n",
    "        print(\"res: \"+ str(res))\n",
    "        if res[0][1] > 0.1:\n",
    "            print(\"red\")\n",
    "            #blink(3)\n",
    "    sleep(3)"
   ],
   "outputs": [
    {
     "output_type": "stream",
     "name": "stdout",
     "text": [
      "res: [[0.97 0.03]]\n",
      "res: [[0.97 0.03]]\n",
      "res: [[0.97 0.03]]\n",
      "res: [[0.97 0.03]]\n",
      "res: [[0.96 0.04]]\n",
      "res: [[0.96 0.04]]\n",
      "res: [[0.97 0.03]]\n",
      "res: [[0.97 0.03]]\n",
      "res: [[0.96 0.04]]\n",
      "res: [[0.96 0.04]]\n",
      "res: [[0.96 0.04]]\n",
      "res: [[0.96 0.04]]\n",
      "res: [[0.97 0.03]]\n",
      "res: [[0.97 0.03]]\n",
      "res: [[0.97 0.03]]\n",
      "res: [[0.97 0.03]]\n",
      "res: [[0.97 0.03]]\n",
      "res: [[0.97 0.03]]\n",
      "res: [[0.96 0.04]]\n",
      "res: [[0.97 0.03]]\n"
     ]
    },
    {
     "output_type": "error",
     "ename": "KeyboardInterrupt",
     "evalue": "",
     "traceback": [
      "\u001b[0;31m---------------------------------------------------------------------------\u001b[0m",
      "\u001b[0;31mKeyboardInterrupt\u001b[0m                         Traceback (most recent call last)",
      "\u001b[0;32m/tmp/ipykernel_12852/4215221872.py\u001b[0m in \u001b[0;36m<module>\u001b[0;34m\u001b[0m\n\u001b[1;32m      9\u001b[0m             \u001b[0mprint\u001b[0m\u001b[0;34m(\u001b[0m\u001b[0;34m\"red\"\u001b[0m\u001b[0;34m)\u001b[0m\u001b[0;34m\u001b[0m\u001b[0;34m\u001b[0m\u001b[0m\n\u001b[1;32m     10\u001b[0m             \u001b[0;31m#blink(3)\u001b[0m\u001b[0;34m\u001b[0m\u001b[0;34m\u001b[0m\u001b[0;34m\u001b[0m\u001b[0m\n\u001b[0;32m---> 11\u001b[0;31m     \u001b[0msleep\u001b[0m\u001b[0;34m(\u001b[0m\u001b[0;36m3\u001b[0m\u001b[0;34m)\u001b[0m\u001b[0;34m\u001b[0m\u001b[0;34m\u001b[0m\u001b[0m\n\u001b[0m",
      "\u001b[0;31mKeyboardInterrupt\u001b[0m: "
     ]
    }
   ],
   "metadata": {}
  }
 ],
 "metadata": {
  "interpreter": {
   "hash": "916dbcbb3f70747c44a77c7bcd40155683ae19c65e1c03b4aa3499c5328201f1"
  },
  "kernelspec": {
   "name": "python3",
   "display_name": "Python 3.9.5 64-bit"
  },
  "language_info": {
   "codemirror_mode": {
    "name": "ipython",
    "version": 3
   },
   "file_extension": ".py",
   "mimetype": "text/x-python",
   "name": "python",
   "nbconvert_exporter": "python",
   "pygments_lexer": "ipython3",
   "version": "3.9.5"
  },
  "orig_nbformat": 4
 },
 "nbformat": 4,
 "nbformat_minor": 2
}