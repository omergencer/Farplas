{
    "cells": [
        {
            "cell_type": "code",
            "execution_count": 1,
            "source": [
                "#!/bin/python3\n",
                "import numpy as np, pandas as pd, seaborn as sns, matplotlib.pyplot as plt, warnings, os.path, pickle\n",
                "from sklearn import preprocessing\n",
                "from sklearn import metrics\n",
                "from sklearn.model_selection import train_test_split\n",
                "from sklearn.metrics import accuracy_score,confusion_matrix,classification_report\n",
                "from sklearn.metrics import precision_score, recall_score, accuracy_score\n",
                "from sklearn.ensemble import RandomForestClassifier\n",
                "from collections import Counter\n",
                "from imblearn.over_sampling import RandomOverSampler\n",
                "from datetime import date\n",
                "import joblib\n",
                "from sklearn.inspection import permutation_importance\n",
                "\n",
                "warnings.filterwarnings(\"ignore\")"
            ],
            "outputs": [],
            "metadata": {}
        },
        {
            "cell_type": "code",
            "execution_count": 2,
            "source": [
                "### data import\n",
                "\n",
                "df = pd.read_csv(\"/home/farplas/Desktop/Injection-machine-parameter-optimization/e117/dataset/e117-2535.csv\")"
            ],
            "outputs": [],
            "metadata": {}
        },
        {
            "cell_type": "code",
            "execution_count": 3,
            "source": [
                "df.columns"
            ],
            "outputs": [
                {
                    "output_type": "execute_result",
                    "data": {
                        "text/plain": [
                            "Index(['Unnamed: 0', 'date', 'timCool1', 'strCushion1', 'tmpMoldZone3',\n",
                            "       'tmpFlange1', 'tmpMoldZone4', 'strPlasticisation1', 'tmpMoldZone1',\n",
                            "       'tmpMoldZone2', 'spdInjection1', 'tmpMoldZone9', 'tmpMoldZone7',\n",
                            "       'tmpMoldZone8', 'tmpOil', 'tmpMoldZone5', 'tmpMoldZone6',\n",
                            "       'tmpMoldZone19', 'cntCycle', 'tmpMoldZone18', 'stsMachine',\n",
                            "       'tmpMoldZone15', 'volTransfer1', 'tmpMoldZone14', 'tmpMoldZone17',\n",
                            "       'strTransfer1', 'tmpMoldZone16', 'timTransfer1', 'timMoldClose',\n",
                            "       'tmpBarrel1Zone5', 'tmpBarrel1Zone4', 'prsPomp1', 'tmpBarrel1Zone1',\n",
                            "       'tmpBarrel1Zone3', 'tmpMoldZone20', 'tmpBarrel1Zone2', 'volShot1',\n",
                            "       'timFill1', 'timMoldOpen', 'tmpMoldZone11', 'tmpMoldZone10',\n",
                            "       'prsTransferHyd1', 'tmpMoldZone13', 'tmpMoldZone12', 'decMold',\n",
                            "       'prsHoldSpec1', 'tmpNozle1', 'timestamp', 'prsInjectionHyd1',\n",
                            "       'timCycle', 'sfc', 'frcClamp', 'timPlasticisation1', 'reason'],\n",
                            "      dtype='object')"
                        ]
                    },
                    "metadata": {},
                    "execution_count": 3
                }
            ],
            "metadata": {}
        },
        {
            "cell_type": "markdown",
            "source": [
                "#Data prep"
            ],
            "metadata": {}
        },
        {
            "cell_type": "code",
            "execution_count": 4,
            "source": [
                "drop_list = ['Unnamed: 0', 'date', 'cntCycle','stsMachine','timestamp','sfc','decMold','prsInjectionHyd1','prsTransferHyd1','strCushion1','strPlasticisation1','strTransfer1']\n",
                "df = df.drop(drop_list, axis=1)"
            ],
            "outputs": [],
            "metadata": {}
        },
        {
            "cell_type": "code",
            "execution_count": 5,
            "source": [
                "## Convert reason(injection defect) data to 0(OK) and 1 (NOK)\n",
                "df['reason'] = df['reason'].replace(['[]'],0)\n",
                "df['reason'][df['reason'] != 0] = 1\n",
                "df = df.astype({\"reason\": int})\n",
                "\n",
                "#df['stsMachine'] = df['stsMachine'].replace(['[0M000]'],None)\n",
                "#df['stsMachine'] = df['stsMachine'].replace(['[0S000]'],None)\n",
                "df = df.dropna()"
            ],
            "outputs": [],
            "metadata": {}
        },
        {
            "cell_type": "code",
            "execution_count": 6,
            "source": [
                "y = df['reason']\n",
                "#X = df[['timCool1','tmpFlange1', 'spdInjection1', 'timMoldClose', 'timFill1', 'prsHoldSpec1', 'timCycle', 'frcClamp','timPlasticisation1']]\n",
                "X = df.drop(['reason'], axis=1)\n",
                "\n",
                "\n"
            ],
            "outputs": [],
            "metadata": {}
        },
        {
            "cell_type": "code",
            "execution_count": 7,
            "source": [
                "df['reason'][df['reason'] == 0].count()\n",
                "df['reason'][df['reason'] == 1].count()"
            ],
            "outputs": [
                {
                    "output_type": "execute_result",
                    "data": {
                        "text/plain": [
                            "4109"
                        ]
                    },
                    "metadata": {},
                    "execution_count": 7
                }
            ],
            "metadata": {}
        },
        {
            "cell_type": "markdown",
            "source": [
                "#Oversampling"
            ],
            "metadata": {}
        },
        {
            "cell_type": "code",
            "execution_count": 8,
            "source": [
                "#Oversampling\n",
                "ros = RandomOverSampler(random_state=0)\n",
                "X_resampled, y_resampled = ros.fit_resample(X, y)\n",
                "X = X_resampled\n",
                "y = y_resampled"
            ],
            "outputs": [],
            "metadata": {}
        },
        {
            "cell_type": "markdown",
            "source": [
                "#Scaler"
            ],
            "metadata": {}
        },
        {
            "cell_type": "code",
            "execution_count": 9,
            "source": [
                "#Scaler\n",
                "scaler = preprocessing.StandardScaler().fit(X)\n",
                "X = scaler.transform(X)\n",
                "X = pd.DataFrame(X)\n",
                "joblib.dump(scaler, \"/home/farplas/Desktop/Injection-machine-parameter-optimization/e117/scaler/Scaler_2535_\"+str(date.today())+\".joblib\")\n"
            ],
            "outputs": [
                {
                    "output_type": "execute_result",
                    "data": {
                        "text/plain": [
                            "['/home/farplas/Desktop/Injection-machine-parameter-optimization/e117/scaler/Scaler_2535_2021-08-13.joblib']"
                        ]
                    },
                    "metadata": {},
                    "execution_count": 9
                }
            ],
            "metadata": {}
        },
        {
            "cell_type": "code",
            "execution_count": 10,
            "source": [
                "#Train\n",
                "X_train, X_val, y_train, y_val = train_test_split(X, y, test_size=0.2, random_state=42, shuffle=True)\n",
                "#Random Forest\n",
                "rf2=RandomForestClassifier(n_estimators=100, criterion='entropy',random_state=3)\n",
                "model = rf2.fit(X_train,y_train)\n"
            ],
            "outputs": [],
            "metadata": {}
        },
        {
            "cell_type": "code",
            "execution_count": 11,
            "source": [
                "list(df.columns)"
            ],
            "outputs": [
                {
                    "output_type": "execute_result",
                    "data": {
                        "text/plain": [
                            "['timCool1',\n",
                            " 'tmpMoldZone3',\n",
                            " 'tmpFlange1',\n",
                            " 'tmpMoldZone4',\n",
                            " 'tmpMoldZone1',\n",
                            " 'tmpMoldZone2',\n",
                            " 'spdInjection1',\n",
                            " 'tmpMoldZone9',\n",
                            " 'tmpMoldZone7',\n",
                            " 'tmpMoldZone8',\n",
                            " 'tmpOil',\n",
                            " 'tmpMoldZone5',\n",
                            " 'tmpMoldZone6',\n",
                            " 'tmpMoldZone19',\n",
                            " 'tmpMoldZone18',\n",
                            " 'tmpMoldZone15',\n",
                            " 'volTransfer1',\n",
                            " 'tmpMoldZone14',\n",
                            " 'tmpMoldZone17',\n",
                            " 'tmpMoldZone16',\n",
                            " 'timTransfer1',\n",
                            " 'timMoldClose',\n",
                            " 'tmpBarrel1Zone5',\n",
                            " 'tmpBarrel1Zone4',\n",
                            " 'prsPomp1',\n",
                            " 'tmpBarrel1Zone1',\n",
                            " 'tmpBarrel1Zone3',\n",
                            " 'tmpMoldZone20',\n",
                            " 'tmpBarrel1Zone2',\n",
                            " 'volShot1',\n",
                            " 'timFill1',\n",
                            " 'timMoldOpen',\n",
                            " 'tmpMoldZone11',\n",
                            " 'tmpMoldZone10',\n",
                            " 'tmpMoldZone13',\n",
                            " 'tmpMoldZone12',\n",
                            " 'prsHoldSpec1',\n",
                            " 'tmpNozle1',\n",
                            " 'timCycle',\n",
                            " 'frcClamp',\n",
                            " 'timPlasticisation1',\n",
                            " 'reason']"
                        ]
                    },
                    "metadata": {},
                    "execution_count": 11
                }
            ],
            "metadata": {}
        },
        {
            "cell_type": "code",
            "execution_count": 12,
            "source": [
                "'''\n",
                "#Importance of features\n",
                "feature_names = df.columns[:41]\n",
                "result = permutation_importance(model, X_train, y_train, n_repeats = 10, random_state = 42, n_jobs = 2)\n",
                "forest_importances = pd.Series(result.importances_mean, index = feature_names)\n",
                "print(forest_importances)\n",
                "\n",
                "import matplotlib.pyplot as plt\n",
                "fig, ax = plt.subplots()\n",
                "forest_importances.plot.bar(yerr=result.importances_std,ax=ax)\n",
                "fig.tight_layout()\n",
                "plt.show()\n",
                "'''"
            ],
            "outputs": [
                {
                    "output_type": "execute_result",
                    "data": {
                        "text/plain": [
                            "'\\n#Importance of features\\nfeature_names = df.columns[:41]\\nresult = permutation_importance(model, X_train, y_train, n_repeats = 10, random_state = 42, n_jobs = 2)\\nforest_importances = pd.Series(result.importances_mean, index = feature_names)\\nprint(forest_importances)\\n\\nimport matplotlib.pyplot as plt\\nfig, ax = plt.subplots()\\nforest_importances.plot.bar(yerr=result.importances_std,ax=ax)\\nfig.tight_layout()\\nplt.show()\\n'"
                        ]
                    },
                    "metadata": {},
                    "execution_count": 12
                }
            ],
            "metadata": {}
        },
        {
            "cell_type": "code",
            "execution_count": 13,
            "source": [
                "#with out oversamp   timCool1,tmpFlange1, spdInjection1, timMoldCLose, timFill, prsHoldSpec1, timCycle, frcClamp,timPlasticisation1\n",
                "#save model\n",
                "joblib.dump(model,\"/home/farplas/Desktop/Injection-machine-parameter-optimization/e117/model/model_2535_\"+str(date.today())+\".joblib\")\n"
            ],
            "outputs": [
                {
                    "output_type": "execute_result",
                    "data": {
                        "text/plain": [
                            "['/home/farplas/Desktop/Injection-machine-parameter-optimization/e117/model/model_2535_2021-08-13.joblib']"
                        ]
                    },
                    "metadata": {},
                    "execution_count": 13
                }
            ],
            "metadata": {}
        },
        {
            "cell_type": "code",
            "execution_count": null,
            "source": [],
            "outputs": [],
            "metadata": {}
        }
    ],
    "metadata": {
        "orig_nbformat": 4,
        "language_info": {
            "name": "python",
            "version": "3.9.5",
            "mimetype": "text/x-python",
            "codemirror_mode": {
                "name": "ipython",
                "version": 3
            },
            "pygments_lexer": "ipython3",
            "nbconvert_exporter": "python",
            "file_extension": ".py"
        },
        "kernelspec": {
            "name": "python3",
            "display_name": "Python 3.9.5 64-bit"
        },
        "interpreter": {
            "hash": "916dbcbb3f70747c44a77c7bcd40155683ae19c65e1c03b4aa3499c5328201f1"
        }
    },
    "nbformat": 4,
    "nbformat_minor": 2
}