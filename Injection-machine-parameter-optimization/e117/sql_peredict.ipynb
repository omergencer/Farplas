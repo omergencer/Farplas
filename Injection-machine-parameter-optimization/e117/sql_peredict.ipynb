{
 "cells": [
  {
   "cell_type": "code",
   "execution_count": 29,
   "source": [
    "import pymysql, joblib,os, pandas as pd#, RPi.GPIO as io\n",
    "from time import sleep\n",
    "from glob import glob"
   ],
   "outputs": [],
   "metadata": {}
  },
  {
   "cell_type": "code",
   "execution_count": 2,
   "source": [
    "import pymysql, joblib,os, pandas as pd#, RPi.GPIO as io\n",
    "from time import sleep"
   ],
   "outputs": [],
   "metadata": {}
  },
  {
   "cell_type": "code",
   "execution_count": 23,
   "source": [
    "def connect2():\n",
    "    db = pymysql.connect(host = \"192.168.7.17\", port = 3306, db = \"kepware\", user = \"nifiuser\", passwd = \"nHuSx6Y!\")\n",
    "    cursor = db.cursor()\n",
    "    cursor.execute(\"SELECT timCool1, tmpMoldZone3, tmpFlange1, tmpMoldZone4, tmpMoldZone1, tmpMoldZone2, spdInjection1,tmpMoldZone9, tmpMoldZone7, tmpMoldZone8, tmpOil, tmpMoldZone5,tmpMoldZone6, tmpMoldZone19,tmpMoldZone18, tmpMoldZone15,volTransfer1, tmpMoldZone14, tmpMoldZone17, tmpMoldZone16,timTransfer1,timMoldClose, tmpBarrel1Zone5, tmpBarrel1Zone4,prsPomp1, tmpBarrel1Zone1, tmpBarrel1Zone3, tmpMoldZone20,tmpBarrel1Zone2, volShot1, timFill1, timMoldOpen,tmpMoldZone11, tmpMoldZone10, tmpMoldZone13, tmpMoldZone12,prsHoldSpec1, tmpNozle1, timCycle, frcClamp,timPlasticisation1,decMold  FROM e117  WHERE decMold = '2443' ORDER BY timestamp DESC LIMIT 1 \")\n",
    "    val = cursor.fetchall()\n",
    "    db.close()\n",
    "    return val"
   ],
   "outputs": [],
   "metadata": {}
  },
  {
   "cell_type": "code",
   "execution_count": 24,
   "source": [
    "connect2()"
   ],
   "outputs": [
    {
     "output_type": "execute_result",
     "data": {
      "text/plain": [
       "()"
      ]
     },
     "metadata": {},
     "execution_count": 24
    }
   ],
   "metadata": {}
  },
  {
   "cell_type": "code",
   "execution_count": 33,
   "source": [
    "def transform(data):\n",
    "    data = pd.DataFrame(data)\n",
    "    data = scaler.transform(data)\n",
    "    #data = pd.DataFrame(data)\n",
    "    #print('data2: '+str(data))\n",
    "    return rf2.predict(data)"
   ],
   "outputs": [],
   "metadata": {}
  },
  {
   "cell_type": "code",
   "execution_count": 31,
   "source": [
    "#Standart\n",
    "rf2 = joblib.load(glob('/home/farplas/Desktop/Farplas/Injection-machine-parameter-optimization/e117/model/model_2443_2021-*')[0])\n",
    "scaler = joblib.load(glob('/home/farplas/Desktop/Farplas/Injection-machine-parameter-optimization/e117/scaler/Scaler_2443_2021-*')[0])"
   ],
   "outputs": [],
   "metadata": {}
  },
  {
   "cell_type": "code",
   "execution_count": 37,
   "source": [
    "data = [[24.23, 320.0, 92.0, 324.0, 323.0, 322.0, 65.3, 0.0, 320.0, 0.0, 40.0, 300.0, 318.0, 0.0, 0.0, 0.0, 0.0, 0.0, 0.0, 0.0, 9.0, 2.31, 290.0, 281.0, 66.0, 255.0, 270.0, 0.0, 260.0, 0.0, 2.74, 1.95, 0.0, 0.0, 0.0, 0.0, 722.0, 249.0, 52.41, 4600.0, 20.72]]\n",
    "data0=[[24.12, 294.0, 88.0, 295.0, 295.0, 295.0, 62.5, 0.0, 292.0, 0.0, 40.0, 303.0, 295.0, 0.0, 0.0, 0.0, 0.0, 0.0, 0.0, 0.0, 9.0, 2.35, 290.0, 280.0, 59.0, 255.0, 270.0, 0.0, 260.0, 0.0, 2.47, 1.97, 0.0, 0.0, 0.0, 0.0, 836.0, 249.0, 47.44, 4600.0, 15.06]]\n",
    "res = transform(data0)\n",
    "print(res)"
   ],
   "outputs": [
    {
     "output_type": "stream",
     "name": "stdout",
     "text": [
      "[0]\n"
     ]
    }
   ],
   "metadata": {}
  },
  {
   "cell_type": "code",
   "execution_count": null,
   "source": [
    "old_val = None\n",
    "while True:\n",
    "    val = connect()\n",
    "    if val != old_val:\n",
    "        old_val = val\n",
    "        res = transform(val)\n",
    "        print(\"res: \"+ str(res))\n",
    "        if res[0][1] > 0.1:\n",
    "            print(\"red\")\n",
    "            #blink(3)\n",
    "    sleep(3)"
   ],
   "outputs": [
    {
     "output_type": "stream",
     "name": "stdout",
     "text": [
      "res: [[0.96 0.04]]\n",
      "res: [[0.96 0.04]]\n",
      "res: [[0.97 0.03]]\n"
     ]
    },
    {
     "output_type": "error",
     "ename": "KeyboardInterrupt",
     "evalue": "",
     "traceback": [
      "\u001b[0;31m---------------------------------------------------------------------------\u001b[0m",
      "\u001b[0;31mKeyboardInterrupt\u001b[0m                         Traceback (most recent call last)",
      "\u001b[0;32m/tmp/ipykernel_2601/4215221872.py\u001b[0m in \u001b[0;36m<module>\u001b[0;34m\u001b[0m\n\u001b[1;32m      9\u001b[0m             \u001b[0mprint\u001b[0m\u001b[0;34m(\u001b[0m\u001b[0;34m\"red\"\u001b[0m\u001b[0;34m)\u001b[0m\u001b[0;34m\u001b[0m\u001b[0;34m\u001b[0m\u001b[0m\n\u001b[1;32m     10\u001b[0m             \u001b[0;31m#blink(3)\u001b[0m\u001b[0;34m\u001b[0m\u001b[0;34m\u001b[0m\u001b[0;34m\u001b[0m\u001b[0m\n\u001b[0;32m---> 11\u001b[0;31m     \u001b[0msleep\u001b[0m\u001b[0;34m(\u001b[0m\u001b[0;36m3\u001b[0m\u001b[0;34m)\u001b[0m\u001b[0;34m\u001b[0m\u001b[0;34m\u001b[0m\u001b[0m\n\u001b[0m",
      "\u001b[0;31mKeyboardInterrupt\u001b[0m: "
     ]
    }
   ],
   "metadata": {}
  }
 ],
 "metadata": {
  "interpreter": {
   "hash": "916dbcbb3f70747c44a77c7bcd40155683ae19c65e1c03b4aa3499c5328201f1"
  },
  "kernelspec": {
   "name": "python3",
   "display_name": "Python 3.9.5 64-bit"
  },
  "language_info": {
   "codemirror_mode": {
    "name": "ipython",
    "version": 3
   },
   "file_extension": ".py",
   "mimetype": "text/x-python",
   "name": "python",
   "nbconvert_exporter": "python",
   "pygments_lexer": "ipython3",
   "version": "3.9.5"
  },
  "orig_nbformat": 4
 },
 "nbformat": 4,
 "nbformat_minor": 2
}