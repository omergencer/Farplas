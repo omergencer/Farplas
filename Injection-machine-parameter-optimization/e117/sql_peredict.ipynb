{
 "cells": [
  {
   "cell_type": "code",
   "execution_count": 1,
   "source": [
    "import pymysql, joblib,os, pandas as pd#, RPi.GPIO as io\n",
    "from time import sleep\n",
    "from glob import glob"
   ],
   "outputs": [],
   "metadata": {}
  },
  {
   "cell_type": "code",
   "execution_count": 2,
   "source": [
    "import pymysql, joblib,os, pandas as pd#, RPi.GPIO as io\n",
    "from time import sleep"
   ],
   "outputs": [],
   "metadata": {}
  },
  {
   "cell_type": "code",
   "execution_count": 3,
   "source": [
    "def connect2():\n",
    "    db = pymysql.connect(host = \"192.168.7.17\", port = 3306, db = \"kepware\", user = \"nifiuser\", passwd = \"nHuSx6Y!\")\n",
    "    cursor = db.cursor()\n",
    "    cursor.execute(\"SELECT timCool1,tmpFlange1, spdInjection1, timMoldCLose, timFill1, prsHoldSpec1, timCycle, frcClamp,timPlasticisation1 FROM e117 ORDER BY timestamp DESC LIMIT 1\")\n",
    "    val = cursor.fetchall()\n",
    "    db.close()\n",
    "    return val"
   ],
   "outputs": [],
   "metadata": {}
  },
  {
   "cell_type": "code",
   "execution_count": 4,
   "source": [
    "def connect():\n",
    "    db = pymysql.connect(host = \"192.168.7.17\", port = 3306, db = \"kepware\", user = \"nifiuser\", passwd = \"nHuSx6Y!\")\n",
    "    cursor = db.cursor()\n",
    "    cursor.execute(\"SELECT timCool1, tmpMoldZone3, tmpFlange1, tmpMoldZone4, tmpMoldZone1, tmpMoldZone2, spdInjection1, tmpMoldZone9, tmpMoldZone7, tmpMoldZone8, tmpOil, tmpMoldZone5,tmpMoldZone6, tmpMoldZone19, tmpMoldZone18, tmpMoldZone15,volTransfer1, tmpMoldZone14, tmpMoldZone17, tmpMoldZone16,timTransfer1, timMoldClose, tmpBarrel1Zone5, tmpBarrel1Zone4,prsPomp1, tmpBarrel1Zone1, tmpBarrel1Zone3, tmpMoldZone20,tmpBarrel1Zone2, volShot1, timFill1, timMoldOpen,tmpMoldZone11, tmpMoldZone10, tmpMoldZone13, tmpMoldZone12,prsHoldSpec1, tmpNozle1, timCycle, frcClamp,timPlasticisation1 FROM e117 ORDER BY timestamp DESC LIMIT 1\")\n",
    "    val = cursor.fetchall()\n",
    "    db.close()\n",
    "    return val"
   ],
   "outputs": [],
   "metadata": {}
  },
  {
   "cell_type": "code",
   "execution_count": 5,
   "source": [
    "def transform(data):\n",
    "    data = pd.DataFrame(data)\n",
    "    data = scaler.transform(data)\n",
    "    #data = pd.DataFrame(data)\n",
    "    #print('data2: '+str(data))\n",
    "    return rf2.predict_proba(data)"
   ],
   "outputs": [],
   "metadata": {}
  },
  {
   "cell_type": "code",
   "execution_count": 11,
   "source": [
    "#Standart\n",
    "rf2 = joblib.load(glob('/home/farplas/Desktop/Injection-machine-parameter-optimization/e117/model/model_2535_2021-*')[0])\n",
    "scaler = joblib.load(glob('/home/farplas/Desktop/Injection-machine-parameter-optimization/e117/scaler/Scaler_2535_2021-*'[0])\n"
   ],
   "outputs": [
    {
     "output_type": "error",
     "ename": "IndexError",
     "evalue": "list index out of range",
     "traceback": [
      "\u001b[0;31m---------------------------------------------------------------------------\u001b[0m",
      "\u001b[0;31mIndexError\u001b[0m                                Traceback (most recent call last)",
      "\u001b[0;32m/tmp/ipykernel_3288/3544318837.py\u001b[0m in \u001b[0;36m<module>\u001b[0;34m\u001b[0m\n\u001b[1;32m      1\u001b[0m \u001b[0;31m#Standart\u001b[0m\u001b[0;34m\u001b[0m\u001b[0;34m\u001b[0m\u001b[0;34m\u001b[0m\u001b[0m\n\u001b[0;32m----> 2\u001b[0;31m \u001b[0mrf2\u001b[0m \u001b[0;34m=\u001b[0m \u001b[0mjoblib\u001b[0m\u001b[0;34m.\u001b[0m\u001b[0mload\u001b[0m\u001b[0;34m(\u001b[0m\u001b[0mglob\u001b[0m\u001b[0;34m(\u001b[0m\u001b[0;34m'/home/farplas/Desktop/Injection-machine-parameter-optimization/e117/model/model_2535-*'\u001b[0m\u001b[0;34m)\u001b[0m\u001b[0;34m[\u001b[0m\u001b[0;36m0\u001b[0m\u001b[0;34m]\u001b[0m\u001b[0;34m)\u001b[0m\u001b[0;34m\u001b[0m\u001b[0;34m\u001b[0m\u001b[0m\n\u001b[0m\u001b[1;32m      3\u001b[0m \u001b[0mscaler\u001b[0m \u001b[0;34m=\u001b[0m \u001b[0mjoblib\u001b[0m\u001b[0;34m.\u001b[0m\u001b[0mload\u001b[0m\u001b[0;34m(\u001b[0m\u001b[0mglob\u001b[0m\u001b[0;34m(\u001b[0m\u001b[0;34m\"/home/farplas/Desktop/Injection-machine-parameter-optimization/e117/scaler/Scaler_2535-*\"\u001b[0m\u001b[0;34m)\u001b[0m\u001b[0;34m[\u001b[0m\u001b[0;36m0\u001b[0m\u001b[0;34m]\u001b[0m\u001b[0;34m)\u001b[0m\u001b[0;34m\u001b[0m\u001b[0;34m\u001b[0m\u001b[0m\n",
      "\u001b[0;31mIndexError\u001b[0m: list index out of range"
     ]
    }
   ],
   "metadata": {}
  },
  {
   "cell_type": "code",
   "execution_count": null,
   "source": [],
   "outputs": [],
   "metadata": {}
  },
  {
   "cell_type": "code",
   "execution_count": null,
   "source": [
    "old_val = None\n",
    "while True:\n",
    "    val = connect()\n",
    "    if val != old_val:\n",
    "        old_val = val\n",
    "        res = transform(val)\n",
    "        print(\"res: \"+ str(res))\n",
    "        if res[0][1] > 0.1:\n",
    "            print(\"red\")\n",
    "            #blink(3)\n",
    "    sleep(3)"
   ],
   "outputs": [
    {
     "output_type": "stream",
     "name": "stdout",
     "text": [
      "res: [[0.96 0.04]]\n",
      "res: [[0.96 0.04]]\n",
      "res: [[0.97 0.03]]\n"
     ]
    },
    {
     "output_type": "error",
     "ename": "KeyboardInterrupt",
     "evalue": "",
     "traceback": [
      "\u001b[0;31m---------------------------------------------------------------------------\u001b[0m",
      "\u001b[0;31mKeyboardInterrupt\u001b[0m                         Traceback (most recent call last)",
      "\u001b[0;32m/tmp/ipykernel_2601/4215221872.py\u001b[0m in \u001b[0;36m<module>\u001b[0;34m\u001b[0m\n\u001b[1;32m      9\u001b[0m             \u001b[0mprint\u001b[0m\u001b[0;34m(\u001b[0m\u001b[0;34m\"red\"\u001b[0m\u001b[0;34m)\u001b[0m\u001b[0;34m\u001b[0m\u001b[0;34m\u001b[0m\u001b[0m\n\u001b[1;32m     10\u001b[0m             \u001b[0;31m#blink(3)\u001b[0m\u001b[0;34m\u001b[0m\u001b[0;34m\u001b[0m\u001b[0;34m\u001b[0m\u001b[0m\n\u001b[0;32m---> 11\u001b[0;31m     \u001b[0msleep\u001b[0m\u001b[0;34m(\u001b[0m\u001b[0;36m3\u001b[0m\u001b[0;34m)\u001b[0m\u001b[0;34m\u001b[0m\u001b[0;34m\u001b[0m\u001b[0m\n\u001b[0m",
      "\u001b[0;31mKeyboardInterrupt\u001b[0m: "
     ]
    }
   ],
   "metadata": {}
  }
 ],
 "metadata": {
  "interpreter": {
   "hash": "916dbcbb3f70747c44a77c7bcd40155683ae19c65e1c03b4aa3499c5328201f1"
  },
  "kernelspec": {
   "name": "python3",
   "display_name": "Python 3.9.5 64-bit"
  },
  "language_info": {
   "codemirror_mode": {
    "name": "ipython",
    "version": 3
   },
   "file_extension": ".py",
   "mimetype": "text/x-python",
   "name": "python",
   "nbconvert_exporter": "python",
   "pygments_lexer": "ipython3",
   "version": "3.9.5"
  },
  "orig_nbformat": 4
 },
 "nbformat": 4,
 "nbformat_minor": 2
}