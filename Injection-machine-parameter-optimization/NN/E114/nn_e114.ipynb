{
 "cells": [
  {
   "cell_type": "code",
   "execution_count": 74,
   "metadata": {
    "ExecuteTime": {
     "end_time": "2021-08-17T08:48:45.338452Z",
     "start_time": "2021-08-17T08:48:45.331310Z"
    }
   },
   "outputs": [],
   "source": [
    "import pandas as pd\n",
    "import numpy as np\n",
    "import matplotlib.pyplot as plt\n",
    "from sklearn.preprocessing import LabelEncoder, StandardScaler\n",
    "from keras.wrappers.scikit_learn import KerasClassifier\n",
    "from keras.utils import np_utils\n",
    "from imblearn.over_sampling import SMOTE \n",
    "\n",
    "from keras.models import Sequential\n",
    "from keras.layers import Dense, Dropout\n",
    "from keras.callbacks import EarlyStopping\n",
    "from sklearn.metrics import confusion_matrix\n",
    "from sklearn.metrics import classification_report"
   ]
  },
  {
   "cell_type": "code",
   "execution_count": 67,
   "metadata": {
    "ExecuteTime": {
     "end_time": "2021-08-17T08:38:33.382158Z",
     "start_time": "2021-08-17T08:38:33.262675Z"
    }
   },
   "outputs": [],
   "source": [
    "df = pd.read_csv('2540_fix_all.csv') \n",
    "target_column = ['reason'] \n",
    "predictors = df.columns[:-1]"
   ]
  },
  {
   "cell_type": "code",
   "execution_count": 68,
   "metadata": {
    "ExecuteTime": {
     "end_time": "2021-08-17T08:38:33.606525Z",
     "start_time": "2021-08-17T08:38:33.596631Z"
    }
   },
   "outputs": [],
   "source": [
    "X = df[predictors].values\n",
    "Y = df[target_column].values"
   ]
  },
  {
   "cell_type": "code",
   "execution_count": 69,
   "metadata": {
    "ExecuteTime": {
     "end_time": "2021-08-17T08:38:34.110571Z",
     "start_time": "2021-08-17T08:38:33.974701Z"
    }
   },
   "outputs": [],
   "source": [
    "sm = SMOTE(random_state=42)\n",
    "\n",
    "X, Y = sm.fit_resample(X, Y)"
   ]
  },
  {
   "cell_type": "code",
   "execution_count": 70,
   "metadata": {
    "ExecuteTime": {
     "end_time": "2021-08-17T08:38:34.474043Z",
     "start_time": "2021-08-17T08:38:34.434587Z"
    }
   },
   "outputs": [],
   "source": [
    "scaler = StandardScaler()\n",
    "X = scaler.fit_transform(X)"
   ]
  },
  {
   "cell_type": "code",
   "execution_count": 71,
   "metadata": {
    "ExecuteTime": {
     "end_time": "2021-08-17T08:39:59.456762Z",
     "start_time": "2021-08-17T08:38:34.942489Z"
    }
   },
   "outputs": [
    {
     "name": "stdout",
     "output_type": "stream",
     "text": [
      "Model: \"sequential_14\"\n",
      "_________________________________________________________________\n",
      "Layer (type)                 Output Shape              Param #   \n",
      "=================================================================\n",
      "dense_43 (Dense)             (None, 160)               12000     \n",
      "_________________________________________________________________\n",
      "dense_44 (Dense)             (None, 160)               25760     \n",
      "_________________________________________________________________\n",
      "dense_45 (Dense)             (None, 1)                 161       \n",
      "=================================================================\n",
      "Total params: 37,921\n",
      "Trainable params: 37,921\n",
      "Non-trainable params: 0\n",
      "_________________________________________________________________\n",
      "Train on 12294 samples, validate on 3074 samples\n",
      "Epoch 1/100\n",
      "12294/12294 [==============================] - 4s 349us/step - loss: 0.1004 - accuracy: 0.9530 - val_loss: 0.1154 - val_accuracy: 0.9050\n",
      "Epoch 2/100\n",
      "12294/12294 [==============================] - 4s 299us/step - loss: 0.0847 - accuracy: 0.9599 - val_loss: 0.1313 - val_accuracy: 0.9109\n",
      "Epoch 3/100\n",
      "12294/12294 [==============================] - 4s 292us/step - loss: 0.0707 - accuracy: 0.9640 - val_loss: 0.0867 - val_accuracy: 0.9379\n",
      "Epoch 4/100\n",
      "12294/12294 [==============================] - 4s 291us/step - loss: 0.0652 - accuracy: 0.9677 - val_loss: 0.0557 - val_accuracy: 0.9886\n",
      "Epoch 5/100\n",
      "12294/12294 [==============================] - 4s 298us/step - loss: 0.0596 - accuracy: 0.9715 - val_loss: 0.0687 - val_accuracy: 0.9678\n",
      "Epoch 6/100\n",
      "12294/12294 [==============================] - 3s 253us/step - loss: 0.0556 - accuracy: 0.9747 - val_loss: 0.0427 - val_accuracy: 0.9886\n",
      "Epoch 7/100\n",
      "12294/12294 [==============================] - 5s 405us/step - loss: 0.0515 - accuracy: 0.9765 - val_loss: 0.1078 - val_accuracy: 0.9336\n",
      "Epoch 8/100\n",
      "12294/12294 [==============================] - 4s 362us/step - loss: 0.0503 - accuracy: 0.9773 - val_loss: 0.0315 - val_accuracy: 0.9899\n",
      "Epoch 9/100\n",
      "12294/12294 [==============================] - 4s 316us/step - loss: 0.0466 - accuracy: 0.9789 - val_loss: 0.0456 - val_accuracy: 0.9766\n",
      "Epoch 10/100\n",
      "12294/12294 [==============================] - 4s 301us/step - loss: 0.0429 - accuracy: 0.9793 - val_loss: 0.0327 - val_accuracy: 0.9906\n",
      "Epoch 11/100\n",
      "12294/12294 [==============================] - 3s 212us/step - loss: 0.0397 - accuracy: 0.9819 - val_loss: 0.0514 - val_accuracy: 0.9779\n",
      "Epoch 12/100\n",
      "12294/12294 [==============================] - 3s 216us/step - loss: 0.0526 - accuracy: 0.9843 - val_loss: 0.0377 - val_accuracy: 0.9841\n",
      "Epoch 13/100\n",
      "12294/12294 [==============================] - 2s 202us/step - loss: 0.0346 - accuracy: 0.9854 - val_loss: 0.0476 - val_accuracy: 0.9766\n",
      "Epoch 14/100\n",
      "12294/12294 [==============================] - 3s 231us/step - loss: 0.0316 - accuracy: 0.9867 - val_loss: 0.0351 - val_accuracy: 0.9844\n",
      "Epoch 15/100\n",
      "12294/12294 [==============================] - 3s 246us/step - loss: 0.0293 - accuracy: 0.9881 - val_loss: 0.0167 - val_accuracy: 0.9961\n",
      "Epoch 16/100\n",
      "12294/12294 [==============================] - 3s 231us/step - loss: 0.0284 - accuracy: 0.9889 - val_loss: 0.0282 - val_accuracy: 0.9919\n",
      "Epoch 17/100\n",
      "12294/12294 [==============================] - 3s 248us/step - loss: 0.0285 - accuracy: 0.9878 - val_loss: 0.0355 - val_accuracy: 0.9831\n",
      "Epoch 18/100\n",
      "12294/12294 [==============================] - 3s 253us/step - loss: 0.0233 - accuracy: 0.9914 - val_loss: 0.0305 - val_accuracy: 0.9854\n",
      "Epoch 19/100\n",
      "12294/12294 [==============================] - 3s 267us/step - loss: 0.0252 - accuracy: 0.9885 - val_loss: 0.0362 - val_accuracy: 0.9857\n",
      "Epoch 20/100\n",
      "12294/12294 [==============================] - 3s 224us/step - loss: 0.0233 - accuracy: 0.9908 - val_loss: 0.0573 - val_accuracy: 0.9707\n",
      "Epoch 21/100\n",
      "12294/12294 [==============================] - 3s 243us/step - loss: 0.0203 - accuracy: 0.9919 - val_loss: 0.0162 - val_accuracy: 0.9935\n",
      "Epoch 22/100\n",
      "12294/12294 [==============================] - 3s 234us/step - loss: 0.0169 - accuracy: 0.9932 - val_loss: 0.1928 - val_accuracy: 0.9379\n",
      "Epoch 23/100\n",
      "12294/12294 [==============================] - 2s 201us/step - loss: 0.0192 - accuracy: 0.9924 - val_loss: 0.0196 - val_accuracy: 0.9925\n",
      "Epoch 24/100\n",
      "12294/12294 [==============================] - 3s 220us/step - loss: 0.0137 - accuracy: 0.9946 - val_loss: 0.0130 - val_accuracy: 0.9951\n",
      "Epoch 25/100\n",
      "12294/12294 [==============================] - 3s 223us/step - loss: 0.0176 - accuracy: 0.9932 - val_loss: 0.0141 - val_accuracy: 0.9961\n"
     ]
    }
   ],
   "source": [
    "model = Sequential()\n",
    "model.add(Dense(160, input_shape=(X.shape[1],), activation='relu'))\n",
    "model.add(Dense(160, activation='relu'))\n",
    "model.add(Dense(1, activation='sigmoid'))\n",
    "model.summary() \n",
    "\n",
    "model.compile(optimizer='Adam', \n",
    "              loss='binary_crossentropy',\n",
    "              metrics=['accuracy'])\n",
    "\n",
    "es = EarlyStopping(monitor='val_accuracy', \n",
    "                                   mode='max',\n",
    "                                   patience=10,\n",
    "                                   restore_best_weights=True)\n",
    "history = model.fit(X,\n",
    "                    Y,\n",
    "                    callbacks=[es],\n",
    "                    epochs=100,\n",
    "                    batch_size=10,\n",
    "                    validation_split=0.2,\n",
    "                    shuffle=True,\n",
    "                    verbose=1)"
   ]
  },
  {
   "cell_type": "code",
   "execution_count": 72,
   "metadata": {
    "ExecuteTime": {
     "end_time": "2021-08-17T08:40:08.466859Z",
     "start_time": "2021-08-17T08:40:07.924837Z"
    }
   },
   "outputs": [
    {
     "data": {
      "text/plain": [
       "array([[0.03843691]], dtype=float32)"
      ]
     },
     "execution_count": 72,
     "metadata": {},
     "output_type": "execute_result"
    }
   ],
   "source": [
    "model.predict_proba(X[3577:3578])"
   ]
  },
  {
   "cell_type": "code",
   "execution_count": 75,
   "metadata": {
    "ExecuteTime": {
     "end_time": "2021-08-17T08:48:49.285819Z",
     "start_time": "2021-08-17T08:48:48.090648Z"
    }
   },
   "outputs": [
    {
     "name": "stdout",
     "output_type": "stream",
     "text": [
      "[[7577  107]\n",
      " [  43 7641]]\n",
      "              precision    recall  f1-score   support\n",
      "\n",
      "           0       0.99      0.99      0.99      7684\n",
      "           1       0.99      0.99      0.99      7684\n",
      "\n",
      "    accuracy                           0.99     15368\n",
      "   macro avg       0.99      0.99      0.99     15368\n",
      "weighted avg       0.99      0.99      0.99     15368\n",
      "\n"
     ]
    }
   ],
   "source": [
    "model.predict(X)\n",
    "np.round(model.predict(X),0)\n",
    "\n",
    "preds = np.round(model.predict(X),0)\n",
    "\n",
    "print(confusion_matrix(Y, preds))\n",
    "\n",
    "print(classification_report(Y, preds))"
   ]
  },
  {
   "cell_type": "code",
   "execution_count": 80,
   "metadata": {
    "ExecuteTime": {
     "end_time": "2021-08-17T10:20:43.645618Z",
     "start_time": "2021-08-17T10:20:38.846480Z"
    }
   },
   "outputs": [
    {
     "name": "stdout",
     "output_type": "stream",
     "text": [
      "Requirement already satisfied: talos in /usr/local/lib/python3.6/dist-packages (0.6.6)\n",
      "Requirement already satisfied: pandas in /usr/local/lib/python3.6/dist-packages (from talos) (1.1.2)\n",
      "Collecting keras==2.3.0\n",
      "  Using cached Keras-2.3.0-py2.py3-none-any.whl (377 kB)\n",
      "Requirement already satisfied: sklearn in /usr/local/lib/python3.6/dist-packages (from talos) (0.0)\n",
      "Requirement already satisfied: kerasplotlib in /usr/local/lib/python3.6/dist-packages (from talos) (0.1.6)\n",
      "Requirement already satisfied: tensorflow==1.14.0 in /usr/local/lib/python3.6/dist-packages (from talos) (1.14.0)\n",
      "Requirement already satisfied: wrangle in /usr/local/lib/python3.6/dist-packages (from talos) (0.6.7)\n",
      "Requirement already satisfied: numpy in /usr/local/lib/python3.6/dist-packages (from talos) (1.19.2)\n",
      "Requirement already satisfied: statsmodels>=0.11.0 in /usr/local/lib/python3.6/dist-packages (from talos) (0.11.1)\n",
      "Requirement already satisfied: chances in /usr/local/lib/python3.6/dist-packages (from talos) (0.1.9)\n",
      "Requirement already satisfied: astetik in /usr/local/lib/python3.6/dist-packages (from talos) (1.9.9)\n",
      "Requirement already satisfied: requests in /usr/local/lib/python3.6/dist-packages (from talos) (2.24.0)\n",
      "Requirement already satisfied: tqdm in /usr/local/lib/python3.6/dist-packages (from talos) (4.44.1)\n",
      "Requirement already satisfied: pytz>=2017.2 in /usr/local/lib/python3.6/dist-packages (from pandas->talos) (2020.1)\n",
      "Requirement already satisfied: python-dateutil>=2.7.3 in /usr/local/lib/python3.6/dist-packages (from pandas->talos) (2.8.1)\n",
      "Requirement already satisfied: six>=1.9.0 in /usr/local/lib/python3.6/dist-packages (from keras==2.3.0->talos) (1.15.0)\n",
      "Requirement already satisfied: h5py in /usr/local/lib/python3.6/dist-packages (from keras==2.3.0->talos) (2.10.0)\n",
      "Requirement already satisfied: pyyaml in /usr/local/lib/python3.6/dist-packages (from keras==2.3.0->talos) (5.3.1)\n",
      "Requirement already satisfied: keras-applications>=1.0.6 in /usr/local/lib/python3.6/dist-packages (from keras==2.3.0->talos) (1.0.8)\n",
      "Requirement already satisfied: keras-preprocessing>=1.0.5 in /usr/local/lib/python3.6/dist-packages (from keras==2.3.0->talos) (1.1.0)\n",
      "Requirement already satisfied: scipy>=0.14 in /usr/local/lib/python3.6/dist-packages (from keras==2.3.0->talos) (1.4.1)\n",
      "Requirement already satisfied: scikit-learn in /usr/local/lib/python3.6/dist-packages (from sklearn->talos) (0.24.2)\n",
      "Requirement already satisfied: ipython in /usr/local/lib/python3.6/dist-packages (from kerasplotlib->talos) (7.13.0)\n",
      "Requirement already satisfied: protobuf>=3.6.1 in /usr/local/lib/python3.6/dist-packages (from tensorflow==1.14.0->talos) (3.11.3)\n",
      "Requirement already satisfied: tensorboard<1.15.0,>=1.14.0 in /usr/local/lib/python3.6/dist-packages (from tensorflow==1.14.0->talos) (1.14.0)\n",
      "Requirement already satisfied: tensorflow-estimator<1.15.0rc0,>=1.14.0rc0 in /usr/local/lib/python3.6/dist-packages (from tensorflow==1.14.0->talos) (1.14.0)\n",
      "Requirement already satisfied: grpcio>=1.8.6 in /usr/local/lib/python3.6/dist-packages (from tensorflow==1.14.0->talos) (1.27.2)\n",
      "Requirement already satisfied: gast>=0.2.0 in /usr/local/lib/python3.6/dist-packages (from tensorflow==1.14.0->talos) (0.2.2)\n",
      "Requirement already satisfied: google-pasta>=0.1.6 in /usr/local/lib/python3.6/dist-packages (from tensorflow==1.14.0->talos) (0.2.0)\n",
      "Requirement already satisfied: astor>=0.6.0 in /usr/local/lib/python3.6/dist-packages (from tensorflow==1.14.0->talos) (0.8.1)\n",
      "Requirement already satisfied: termcolor>=1.1.0 in /usr/local/lib/python3.6/dist-packages (from tensorflow==1.14.0->talos) (1.1.0)\n",
      "Requirement already satisfied: wheel>=0.26 in /usr/lib/python3/dist-packages (from tensorflow==1.14.0->talos) (0.30.0)\n",
      "Requirement already satisfied: absl-py>=0.7.0 in /usr/local/lib/python3.6/dist-packages (from tensorflow==1.14.0->talos) (0.9.0)\n",
      "Requirement already satisfied: wrapt>=1.11.1 in /usr/local/lib/python3.6/dist-packages (from tensorflow==1.14.0->talos) (1.12.1)\n",
      "Requirement already satisfied: patsy>=0.5 in /usr/local/lib/python3.6/dist-packages (from statsmodels>=0.11.0->talos) (0.5.1)\n",
      "Requirement already satisfied: geonamescache in /usr/local/lib/python3.6/dist-packages (from astetik->talos) (1.1.0)\n",
      "Requirement already satisfied: chardet<4,>=3.0.2 in /usr/local/lib/python3.6/dist-packages (from requests->talos) (3.0.4)\n",
      "Requirement already satisfied: certifi>=2017.4.17 in /usr/local/lib/python3.6/dist-packages (from requests->talos) (2020.6.20)\n",
      "Requirement already satisfied: idna<3,>=2.5 in /usr/local/lib/python3.6/dist-packages (from requests->talos) (2.10)\n",
      "Requirement already satisfied: urllib3!=1.25.0,!=1.25.1,<1.26,>=1.21.1 in /usr/local/lib/python3.6/dist-packages (from requests->talos) (1.25.10)\n",
      "Requirement already satisfied: threadpoolctl>=2.0.0 in /usr/local/lib/python3.6/dist-packages (from scikit-learn->sklearn->talos) (2.2.0)\n",
      "Requirement already satisfied: joblib>=0.11 in /usr/local/lib/python3.6/dist-packages (from scikit-learn->sklearn->talos) (0.14.1)\n",
      "Requirement already satisfied: jedi>=0.10 in /usr/local/lib/python3.6/dist-packages (from ipython->kerasplotlib->talos) (0.16.0)\n",
      "Requirement already satisfied: prompt-toolkit!=3.0.0,!=3.0.1,<3.1.0,>=2.0.0 in /usr/local/lib/python3.6/dist-packages (from ipython->kerasplotlib->talos) (3.0.4)\n",
      "Requirement already satisfied: pexpect; sys_platform != \"win32\" in /usr/local/lib/python3.6/dist-packages (from ipython->kerasplotlib->talos) (4.8.0)\n",
      "Requirement already satisfied: traitlets>=4.2 in /usr/local/lib/python3.6/dist-packages (from ipython->kerasplotlib->talos) (4.3.3)\n",
      "Requirement already satisfied: pygments in /usr/local/lib/python3.6/dist-packages (from ipython->kerasplotlib->talos) (2.7.0)\n",
      "Requirement already satisfied: setuptools>=18.5 in /usr/local/lib/python3.6/dist-packages (from ipython->kerasplotlib->talos) (50.3.0)\n",
      "Requirement already satisfied: pickleshare in /usr/local/lib/python3.6/dist-packages (from ipython->kerasplotlib->talos) (0.7.5)\n",
      "Requirement already satisfied: decorator in /usr/local/lib/python3.6/dist-packages (from ipython->kerasplotlib->talos) (4.4.2)\n",
      "Requirement already satisfied: backcall in /usr/local/lib/python3.6/dist-packages (from ipython->kerasplotlib->talos) (0.1.0)\n",
      "Requirement already satisfied: markdown>=2.6.8 in /usr/local/lib/python3.6/dist-packages (from tensorboard<1.15.0,>=1.14.0->tensorflow==1.14.0->talos) (2.6.11)\n",
      "Requirement already satisfied: werkzeug>=0.11.15 in /usr/local/lib/python3.6/dist-packages (from tensorboard<1.15.0,>=1.14.0->tensorflow==1.14.0->talos) (0.16.1)\n",
      "Requirement already satisfied: parso>=0.5.2 in /usr/local/lib/python3.6/dist-packages (from jedi>=0.10->ipython->kerasplotlib->talos) (0.6.2)\n",
      "Requirement already satisfied: wcwidth in /usr/local/lib/python3.6/dist-packages (from prompt-toolkit!=3.0.0,!=3.0.1,<3.1.0,>=2.0.0->ipython->kerasplotlib->talos) (0.1.8)\n",
      "Requirement already satisfied: ptyprocess>=0.5 in /usr/local/lib/python3.6/dist-packages (from pexpect; sys_platform != \"win32\"->ipython->kerasplotlib->talos) (0.6.0)\n",
      "Requirement already satisfied: ipython-genutils in /usr/local/lib/python3.6/dist-packages (from traitlets>=4.2->ipython->kerasplotlib->talos) (0.2.0)\n",
      "\u001b[31mERROR: wrangle 0.6.7 has requirement scipy==1.2, but you'll have scipy 1.4.1 which is incompatible.\u001b[0m\n",
      "Installing collected packages: keras\n",
      "  Attempting uninstall: keras\n",
      "    Found existing installation: Keras 2.3.1\n",
      "    Uninstalling Keras-2.3.1:\n",
      "      Successfully uninstalled Keras-2.3.1\n",
      "Successfully installed keras-2.3.0\n",
      "\u001b[33mWARNING: You are using pip version 20.1.1; however, version 21.2.4 is available.\n",
      "You should consider upgrading via the '/usr/bin/python -m pip install --upgrade pip' command.\u001b[0m\n"
     ]
    }
   ],
   "source": []
  },
  {
   "cell_type": "code",
   "execution_count": null,
   "metadata": {},
   "outputs": [],
   "source": []
  }
 ],
 "metadata": {
  "hide_input": false,
  "kernelspec": {
   "display_name": "Python 3",
   "language": "python",
   "name": "python3"
  },
  "language_info": {
   "codemirror_mode": {
    "name": "ipython",
    "version": 3
   },
   "file_extension": ".py",
   "mimetype": "text/x-python",
   "name": "python",
   "nbconvert_exporter": "python",
   "pygments_lexer": "ipython3",
   "version": "3.6.9"
  }
 },
 "nbformat": 4,
 "nbformat_minor": 4
}
