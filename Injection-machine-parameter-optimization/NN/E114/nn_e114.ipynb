{
 "cells": [
  {
   "cell_type": "code",
   "execution_count": 1,
   "source": [
    "import pandas as pd\n",
    "import numpy as np\n",
    "import matplotlib.pyplot as plt\n",
    "from sklearn.preprocessing import LabelEncoder, StandardScaler\n",
    "from keras.wrappers.scikit_learn import KerasClassifier\n",
    "from keras.utils import np_utils\n",
    "from imblearn.over_sampling import SMOTE \n",
    "\n",
    "from keras.models import Sequential\n",
    "from keras.layers import Dense, Dropout\n",
    "from keras.callbacks import EarlyStopping\n",
    "from sklearn.metrics import confusion_matrix\n",
    "from sklearn.metrics import classification_report"
   ],
   "outputs": [
    {
     "output_type": "stream",
     "name": "stderr",
     "text": [
      "2021-08-23 12:17:11.348810: W tensorflow/stream_executor/platform/default/dso_loader.cc:64] Could not load dynamic library 'libcudart.so.11.0'; dlerror: libcudart.so.11.0: cannot open shared object file: No such file or directory\n",
      "2021-08-23 12:17:11.348828: I tensorflow/stream_executor/cuda/cudart_stub.cc:29] Ignore above cudart dlerror if you do not have a GPU set up on your machine.\n"
     ]
    }
   ],
   "metadata": {
    "ExecuteTime": {
     "end_time": "2021-08-17T08:48:45.338452Z",
     "start_time": "2021-08-17T08:48:45.331310Z"
    }
   }
  },
  {
   "cell_type": "code",
   "execution_count": 2,
   "source": [
    "df = pd.read_csv('/home/farplas/Desktop/Farplas/Injection-machine-parameter-optimization/e117/e117-2443_edit.csv') \n",
    "target_column = ['reason'] \n",
    "predictors = df.columns[:-1]"
   ],
   "outputs": [],
   "metadata": {
    "ExecuteTime": {
     "end_time": "2021-08-17T08:38:33.382158Z",
     "start_time": "2021-08-17T08:38:33.262675Z"
    }
   }
  },
  {
   "cell_type": "code",
   "execution_count": 3,
   "source": [
    "X = df[predictors].values\n",
    "Y = df[target_column].values"
   ],
   "outputs": [],
   "metadata": {
    "ExecuteTime": {
     "end_time": "2021-08-17T08:38:33.606525Z",
     "start_time": "2021-08-17T08:38:33.596631Z"
    }
   }
  },
  {
   "cell_type": "code",
   "execution_count": 4,
   "source": [
    "sm = SMOTE(random_state=42)\n",
    "\n",
    "X, Y = sm.fit_resample(X, Y)"
   ],
   "outputs": [],
   "metadata": {
    "ExecuteTime": {
     "end_time": "2021-08-17T08:38:34.110571Z",
     "start_time": "2021-08-17T08:38:33.974701Z"
    }
   }
  },
  {
   "cell_type": "code",
   "execution_count": 5,
   "source": [
    "scaler = StandardScaler()\n",
    "X = scaler.fit_transform(X)"
   ],
   "outputs": [],
   "metadata": {
    "ExecuteTime": {
     "end_time": "2021-08-17T08:38:34.474043Z",
     "start_time": "2021-08-17T08:38:34.434587Z"
    }
   }
  },
  {
   "cell_type": "code",
   "execution_count": 6,
   "source": [
    "model = Sequential()\n",
    "model.add(Dense(160, input_shape=(X.shape[1],), activation='relu'))\n",
    "model.add(Dense(160, activation='relu'))\n",
    "model.add(Dense(1, activation='sigmoid'))\n",
    "model.summary() \n",
    "\n",
    "model.compile(optimizer='Adam', \n",
    "              loss='binary_crossentropy',\n",
    "              metrics=['accuracy'])\n",
    "\n",
    "es = EarlyStopping(monitor='val_accuracy', \n",
    "                                   mode='max',\n",
    "                                   patience=10,\n",
    "                                   restore_best_weights=True)\n",
    "history = model.fit(X,\n",
    "                    Y,\n",
    "                    callbacks=[es],\n",
    "                    epochs=100,\n",
    "                    batch_size=10,\n",
    "                    validation_split=0.2,\n",
    "                    shuffle=True,\n",
    "                    verbose=1)"
   ],
   "outputs": [
    {
     "output_type": "stream",
     "name": "stderr",
     "text": [
      "2021-08-23 12:17:32.623246: I tensorflow/stream_executor/cuda/cuda_gpu_executor.cc:937] successful NUMA node read from SysFS had negative value (-1), but there must be at least one NUMA node, so returning NUMA node zero\n",
      "2021-08-23 12:17:32.623606: W tensorflow/stream_executor/platform/default/dso_loader.cc:64] Could not load dynamic library 'libcudart.so.11.0'; dlerror: libcudart.so.11.0: cannot open shared object file: No such file or directory\n",
      "2021-08-23 12:17:32.623658: W tensorflow/stream_executor/platform/default/dso_loader.cc:64] Could not load dynamic library 'libcublas.so.11'; dlerror: libcublas.so.11: cannot open shared object file: No such file or directory\n",
      "2021-08-23 12:17:32.623697: W tensorflow/stream_executor/platform/default/dso_loader.cc:64] Could not load dynamic library 'libcublasLt.so.11'; dlerror: libcublasLt.so.11: cannot open shared object file: No such file or directory\n",
      "2021-08-23 12:17:32.623734: W tensorflow/stream_executor/platform/default/dso_loader.cc:64] Could not load dynamic library 'libcufft.so.10'; dlerror: libcufft.so.10: cannot open shared object file: No such file or directory\n",
      "2021-08-23 12:17:32.623771: W tensorflow/stream_executor/platform/default/dso_loader.cc:64] Could not load dynamic library 'libcurand.so.10'; dlerror: libcurand.so.10: cannot open shared object file: No such file or directory\n",
      "2021-08-23 12:17:32.623806: W tensorflow/stream_executor/platform/default/dso_loader.cc:64] Could not load dynamic library 'libcusolver.so.11'; dlerror: libcusolver.so.11: cannot open shared object file: No such file or directory\n",
      "2021-08-23 12:17:32.623843: W tensorflow/stream_executor/platform/default/dso_loader.cc:64] Could not load dynamic library 'libcusparse.so.11'; dlerror: libcusparse.so.11: cannot open shared object file: No such file or directory\n",
      "2021-08-23 12:17:32.623881: W tensorflow/stream_executor/platform/default/dso_loader.cc:64] Could not load dynamic library 'libcudnn.so.8'; dlerror: libcudnn.so.8: cannot open shared object file: No such file or directory\n",
      "2021-08-23 12:17:32.623887: W tensorflow/core/common_runtime/gpu/gpu_device.cc:1835] Cannot dlopen some GPU libraries. Please make sure the missing libraries mentioned above are installed properly if you would like to use GPU. Follow the guide at https://www.tensorflow.org/install/gpu for how to download and setup the required libraries for your platform.\n",
      "Skipping registering GPU devices...\n",
      "2021-08-23 12:17:32.624106: I tensorflow/core/platform/cpu_feature_guard.cc:142] This TensorFlow binary is optimized with oneAPI Deep Neural Network Library (oneDNN) to use the following CPU instructions in performance-critical operations:  AVX2 FMA\n",
      "To enable them in other operations, rebuild TensorFlow with the appropriate compiler flags.\n",
      "2021-08-23 12:17:32.758069: I tensorflow/compiler/mlir/mlir_graph_optimization_pass.cc:185] None of the MLIR Optimization Passes are enabled (registered 2)\n"
     ]
    },
    {
     "output_type": "stream",
     "name": "stdout",
     "text": [
      "Model: \"sequential\"\n",
      "_________________________________________________________________\n",
      "Layer (type)                 Output Shape              Param #   \n",
      "=================================================================\n",
      "dense (Dense)                (None, 160)               6880      \n",
      "_________________________________________________________________\n",
      "dense_1 (Dense)              (None, 160)               25760     \n",
      "_________________________________________________________________\n",
      "dense_2 (Dense)              (None, 1)                 161       \n",
      "=================================================================\n",
      "Total params: 32,801\n",
      "Trainable params: 32,801\n",
      "Non-trainable params: 0\n",
      "_________________________________________________________________\n",
      "Epoch 1/100\n",
      "2649/2649 [==============================] - 2s 623us/step - loss: 0.1780 - accuracy: 0.9434 - val_loss: 0.1649 - val_accuracy: 0.9313\n",
      "Epoch 2/100\n",
      "2649/2649 [==============================] - 2s 598us/step - loss: 0.1265 - accuracy: 0.9604 - val_loss: 0.1973 - val_accuracy: 0.9129\n",
      "Epoch 3/100\n",
      "2649/2649 [==============================] - 1s 565us/step - loss: 0.1124 - accuracy: 0.9631 - val_loss: 0.1434 - val_accuracy: 0.9342\n",
      "Epoch 4/100\n",
      "2649/2649 [==============================] - 2s 585us/step - loss: 0.1028 - accuracy: 0.9648 - val_loss: 0.1615 - val_accuracy: 0.9317\n",
      "Epoch 5/100\n",
      "2649/2649 [==============================] - 2s 570us/step - loss: 0.0951 - accuracy: 0.9666 - val_loss: 0.1255 - val_accuracy: 0.9302\n",
      "Epoch 6/100\n",
      "2649/2649 [==============================] - 2s 581us/step - loss: 0.0920 - accuracy: 0.9669 - val_loss: 0.1541 - val_accuracy: 0.9328\n",
      "Epoch 7/100\n",
      "2649/2649 [==============================] - 2s 579us/step - loss: 0.0881 - accuracy: 0.9681 - val_loss: 0.1249 - val_accuracy: 0.9426\n",
      "Epoch 8/100\n",
      "2649/2649 [==============================] - 1s 565us/step - loss: 0.0846 - accuracy: 0.9695 - val_loss: 0.1225 - val_accuracy: 0.9367\n",
      "Epoch 9/100\n",
      "2649/2649 [==============================] - 2s 586us/step - loss: 0.0833 - accuracy: 0.9694 - val_loss: 0.1198 - val_accuracy: 0.9447\n",
      "Epoch 10/100\n",
      "2649/2649 [==============================] - 2s 609us/step - loss: 0.0804 - accuracy: 0.9698 - val_loss: 0.1142 - val_accuracy: 0.9496\n",
      "Epoch 11/100\n",
      "2649/2649 [==============================] - 1s 562us/step - loss: 0.0790 - accuracy: 0.9714 - val_loss: 0.1071 - val_accuracy: 0.9482\n",
      "Epoch 12/100\n",
      "2649/2649 [==============================] - 1s 566us/step - loss: 0.0779 - accuracy: 0.9710 - val_loss: 0.1295 - val_accuracy: 0.9382\n",
      "Epoch 13/100\n",
      "2649/2649 [==============================] - 1s 563us/step - loss: 0.0761 - accuracy: 0.9709 - val_loss: 0.0975 - val_accuracy: 0.9465\n",
      "Epoch 14/100\n",
      "2649/2649 [==============================] - 2s 588us/step - loss: 0.0748 - accuracy: 0.9711 - val_loss: 0.1093 - val_accuracy: 0.9422\n",
      "Epoch 15/100\n",
      "2649/2649 [==============================] - 1s 562us/step - loss: 0.0738 - accuracy: 0.9714 - val_loss: 0.0923 - val_accuracy: 0.9428\n",
      "Epoch 16/100\n",
      "2649/2649 [==============================] - 1s 560us/step - loss: 0.0722 - accuracy: 0.9712 - val_loss: 0.0914 - val_accuracy: 0.9511\n",
      "Epoch 17/100\n",
      "2649/2649 [==============================] - 2s 568us/step - loss: 0.0712 - accuracy: 0.9722 - val_loss: 0.0900 - val_accuracy: 0.9527\n",
      "Epoch 18/100\n",
      "2649/2649 [==============================] - 1s 561us/step - loss: 0.0713 - accuracy: 0.9731 - val_loss: 0.0742 - val_accuracy: 0.9524\n",
      "Epoch 19/100\n",
      "2649/2649 [==============================] - 1s 562us/step - loss: 0.0699 - accuracy: 0.9724 - val_loss: 0.1119 - val_accuracy: 0.9471\n",
      "Epoch 20/100\n",
      "2649/2649 [==============================] - 1s 557us/step - loss: 0.0693 - accuracy: 0.9726 - val_loss: 0.0875 - val_accuracy: 0.9532\n",
      "Epoch 21/100\n",
      "2649/2649 [==============================] - 2s 572us/step - loss: 0.0673 - accuracy: 0.9741 - val_loss: 0.0927 - val_accuracy: 0.9529\n",
      "Epoch 22/100\n",
      "2649/2649 [==============================] - 2s 593us/step - loss: 0.0666 - accuracy: 0.9732 - val_loss: 0.1172 - val_accuracy: 0.9422\n",
      "Epoch 23/100\n",
      "2649/2649 [==============================] - 1s 560us/step - loss: 0.0660 - accuracy: 0.9740 - val_loss: 0.0916 - val_accuracy: 0.9526\n",
      "Epoch 24/100\n",
      "2649/2649 [==============================] - 1s 565us/step - loss: 0.0663 - accuracy: 0.9735 - val_loss: 0.0938 - val_accuracy: 0.9526\n",
      "Epoch 25/100\n",
      "2649/2649 [==============================] - 1s 565us/step - loss: 0.0648 - accuracy: 0.9743 - val_loss: 0.0899 - val_accuracy: 0.9564\n",
      "Epoch 26/100\n",
      "2649/2649 [==============================] - 2s 577us/step - loss: 0.0636 - accuracy: 0.9752 - val_loss: 0.1140 - val_accuracy: 0.9520\n",
      "Epoch 27/100\n",
      "2649/2649 [==============================] - 1s 565us/step - loss: 0.0660 - accuracy: 0.9752 - val_loss: 0.0889 - val_accuracy: 0.9449\n",
      "Epoch 28/100\n",
      "2649/2649 [==============================] - 1s 561us/step - loss: 0.0611 - accuracy: 0.9751 - val_loss: 0.0854 - val_accuracy: 0.9564\n",
      "Epoch 29/100\n",
      "2649/2649 [==============================] - 2s 636us/step - loss: 0.0607 - accuracy: 0.9756 - val_loss: 0.0944 - val_accuracy: 0.9535\n",
      "Epoch 30/100\n",
      "2649/2649 [==============================] - 2s 647us/step - loss: 0.0619 - accuracy: 0.9747 - val_loss: 0.0841 - val_accuracy: 0.9530\n",
      "Epoch 31/100\n",
      "2649/2649 [==============================] - 2s 576us/step - loss: 0.0604 - accuracy: 0.9758 - val_loss: 0.0927 - val_accuracy: 0.9556\n",
      "Epoch 32/100\n",
      "2649/2649 [==============================] - 1s 565us/step - loss: 0.0593 - accuracy: 0.9759 - val_loss: 0.0837 - val_accuracy: 0.9577\n",
      "Epoch 33/100\n",
      "2649/2649 [==============================] - 2s 571us/step - loss: 0.0596 - accuracy: 0.9760 - val_loss: 0.0840 - val_accuracy: 0.9544\n",
      "Epoch 34/100\n",
      "2649/2649 [==============================] - 2s 593us/step - loss: 0.0600 - accuracy: 0.9766 - val_loss: 0.0846 - val_accuracy: 0.9556\n",
      "Epoch 35/100\n",
      "2649/2649 [==============================] - 1s 557us/step - loss: 0.0574 - accuracy: 0.9763 - val_loss: 0.1209 - val_accuracy: 0.9464\n",
      "Epoch 36/100\n",
      "2649/2649 [==============================] - 2s 595us/step - loss: 0.0564 - accuracy: 0.9767 - val_loss: 0.0841 - val_accuracy: 0.9564\n",
      "Epoch 37/100\n",
      "2649/2649 [==============================] - 2s 571us/step - loss: 0.0571 - accuracy: 0.9764 - val_loss: 0.0632 - val_accuracy: 0.9642\n",
      "Epoch 38/100\n",
      "2649/2649 [==============================] - 1s 564us/step - loss: 0.0554 - accuracy: 0.9776 - val_loss: 0.0641 - val_accuracy: 0.9621\n",
      "Epoch 39/100\n",
      "2649/2649 [==============================] - 2s 584us/step - loss: 0.0559 - accuracy: 0.9770 - val_loss: 0.0818 - val_accuracy: 0.9526\n",
      "Epoch 40/100\n",
      "2649/2649 [==============================] - 2s 569us/step - loss: 0.0558 - accuracy: 0.9776 - val_loss: 0.0815 - val_accuracy: 0.9508\n",
      "Epoch 41/100\n",
      "2649/2649 [==============================] - 1s 563us/step - loss: 0.0566 - accuracy: 0.9779 - val_loss: 0.0876 - val_accuracy: 0.9526\n",
      "Epoch 42/100\n",
      "2649/2649 [==============================] - 1s 562us/step - loss: 0.0515 - accuracy: 0.9794 - val_loss: 0.0862 - val_accuracy: 0.9636\n",
      "Epoch 43/100\n",
      "2649/2649 [==============================] - 1s 562us/step - loss: 0.0537 - accuracy: 0.9778 - val_loss: 0.0934 - val_accuracy: 0.9556\n",
      "Epoch 44/100\n",
      "2649/2649 [==============================] - 1s 564us/step - loss: 0.0544 - accuracy: 0.9777 - val_loss: 0.0806 - val_accuracy: 0.9624\n",
      "Epoch 45/100\n",
      "2649/2649 [==============================] - 1s 564us/step - loss: 0.0525 - accuracy: 0.9787 - val_loss: 0.0831 - val_accuracy: 0.9558\n",
      "Epoch 46/100\n",
      "2649/2649 [==============================] - 2s 568us/step - loss: 0.0510 - accuracy: 0.9789 - val_loss: 0.1034 - val_accuracy: 0.9544\n",
      "Epoch 47/100\n",
      "2649/2649 [==============================] - 2s 585us/step - loss: 0.0515 - accuracy: 0.9791 - val_loss: 0.0783 - val_accuracy: 0.9580\n"
     ]
    }
   ],
   "metadata": {
    "ExecuteTime": {
     "end_time": "2021-08-17T08:39:59.456762Z",
     "start_time": "2021-08-17T08:38:34.942489Z"
    }
   }
  },
  {
   "cell_type": "code",
   "execution_count": 24,
   "source": [
    "model.predict(X[2854:2855])\n"
   ],
   "outputs": [
    {
     "output_type": "execute_result",
     "data": {
      "text/plain": [
       "array([[0.9999931]], dtype=float32)"
      ]
     },
     "metadata": {},
     "execution_count": 24
    }
   ],
   "metadata": {
    "ExecuteTime": {
     "end_time": "2021-08-17T08:40:08.466859Z",
     "start_time": "2021-08-17T08:40:07.924837Z"
    }
   }
  },
  {
   "cell_type": "code",
   "execution_count": 75,
   "source": [
    "model.predict(X)\n",
    "np.round(model.predict(X),0)\n",
    "\n",
    "preds = np.round(model.predict(X),0)\n",
    "\n",
    "print(confusion_matrix(Y, preds))\n",
    "\n",
    "print(classification_report(Y, preds))"
   ],
   "outputs": [
    {
     "output_type": "stream",
     "name": "stdout",
     "text": [
      "[[7577  107]\n",
      " [  43 7641]]\n",
      "              precision    recall  f1-score   support\n",
      "\n",
      "           0       0.99      0.99      0.99      7684\n",
      "           1       0.99      0.99      0.99      7684\n",
      "\n",
      "    accuracy                           0.99     15368\n",
      "   macro avg       0.99      0.99      0.99     15368\n",
      "weighted avg       0.99      0.99      0.99     15368\n",
      "\n"
     ]
    }
   ],
   "metadata": {
    "ExecuteTime": {
     "end_time": "2021-08-17T08:48:49.285819Z",
     "start_time": "2021-08-17T08:48:48.090648Z"
    }
   }
  },
  {
   "cell_type": "code",
   "execution_count": 80,
   "source": [],
   "outputs": [
    {
     "output_type": "stream",
     "name": "stdout",
     "text": [
      "Requirement already satisfied: talos in /usr/local/lib/python3.6/dist-packages (0.6.6)\n",
      "Requirement already satisfied: pandas in /usr/local/lib/python3.6/dist-packages (from talos) (1.1.2)\n",
      "Collecting keras==2.3.0\n",
      "  Using cached Keras-2.3.0-py2.py3-none-any.whl (377 kB)\n",
      "Requirement already satisfied: sklearn in /usr/local/lib/python3.6/dist-packages (from talos) (0.0)\n",
      "Requirement already satisfied: kerasplotlib in /usr/local/lib/python3.6/dist-packages (from talos) (0.1.6)\n",
      "Requirement already satisfied: tensorflow==1.14.0 in /usr/local/lib/python3.6/dist-packages (from talos) (1.14.0)\n",
      "Requirement already satisfied: wrangle in /usr/local/lib/python3.6/dist-packages (from talos) (0.6.7)\n",
      "Requirement already satisfied: numpy in /usr/local/lib/python3.6/dist-packages (from talos) (1.19.2)\n",
      "Requirement already satisfied: statsmodels>=0.11.0 in /usr/local/lib/python3.6/dist-packages (from talos) (0.11.1)\n",
      "Requirement already satisfied: chances in /usr/local/lib/python3.6/dist-packages (from talos) (0.1.9)\n",
      "Requirement already satisfied: astetik in /usr/local/lib/python3.6/dist-packages (from talos) (1.9.9)\n",
      "Requirement already satisfied: requests in /usr/local/lib/python3.6/dist-packages (from talos) (2.24.0)\n",
      "Requirement already satisfied: tqdm in /usr/local/lib/python3.6/dist-packages (from talos) (4.44.1)\n",
      "Requirement already satisfied: pytz>=2017.2 in /usr/local/lib/python3.6/dist-packages (from pandas->talos) (2020.1)\n",
      "Requirement already satisfied: python-dateutil>=2.7.3 in /usr/local/lib/python3.6/dist-packages (from pandas->talos) (2.8.1)\n",
      "Requirement already satisfied: six>=1.9.0 in /usr/local/lib/python3.6/dist-packages (from keras==2.3.0->talos) (1.15.0)\n",
      "Requirement already satisfied: h5py in /usr/local/lib/python3.6/dist-packages (from keras==2.3.0->talos) (2.10.0)\n",
      "Requirement already satisfied: pyyaml in /usr/local/lib/python3.6/dist-packages (from keras==2.3.0->talos) (5.3.1)\n",
      "Requirement already satisfied: keras-applications>=1.0.6 in /usr/local/lib/python3.6/dist-packages (from keras==2.3.0->talos) (1.0.8)\n",
      "Requirement already satisfied: keras-preprocessing>=1.0.5 in /usr/local/lib/python3.6/dist-packages (from keras==2.3.0->talos) (1.1.0)\n",
      "Requirement already satisfied: scipy>=0.14 in /usr/local/lib/python3.6/dist-packages (from keras==2.3.0->talos) (1.4.1)\n",
      "Requirement already satisfied: scikit-learn in /usr/local/lib/python3.6/dist-packages (from sklearn->talos) (0.24.2)\n",
      "Requirement already satisfied: ipython in /usr/local/lib/python3.6/dist-packages (from kerasplotlib->talos) (7.13.0)\n",
      "Requirement already satisfied: protobuf>=3.6.1 in /usr/local/lib/python3.6/dist-packages (from tensorflow==1.14.0->talos) (3.11.3)\n",
      "Requirement already satisfied: tensorboard<1.15.0,>=1.14.0 in /usr/local/lib/python3.6/dist-packages (from tensorflow==1.14.0->talos) (1.14.0)\n",
      "Requirement already satisfied: tensorflow-estimator<1.15.0rc0,>=1.14.0rc0 in /usr/local/lib/python3.6/dist-packages (from tensorflow==1.14.0->talos) (1.14.0)\n",
      "Requirement already satisfied: grpcio>=1.8.6 in /usr/local/lib/python3.6/dist-packages (from tensorflow==1.14.0->talos) (1.27.2)\n",
      "Requirement already satisfied: gast>=0.2.0 in /usr/local/lib/python3.6/dist-packages (from tensorflow==1.14.0->talos) (0.2.2)\n",
      "Requirement already satisfied: google-pasta>=0.1.6 in /usr/local/lib/python3.6/dist-packages (from tensorflow==1.14.0->talos) (0.2.0)\n",
      "Requirement already satisfied: astor>=0.6.0 in /usr/local/lib/python3.6/dist-packages (from tensorflow==1.14.0->talos) (0.8.1)\n",
      "Requirement already satisfied: termcolor>=1.1.0 in /usr/local/lib/python3.6/dist-packages (from tensorflow==1.14.0->talos) (1.1.0)\n",
      "Requirement already satisfied: wheel>=0.26 in /usr/lib/python3/dist-packages (from tensorflow==1.14.0->talos) (0.30.0)\n",
      "Requirement already satisfied: absl-py>=0.7.0 in /usr/local/lib/python3.6/dist-packages (from tensorflow==1.14.0->talos) (0.9.0)\n",
      "Requirement already satisfied: wrapt>=1.11.1 in /usr/local/lib/python3.6/dist-packages (from tensorflow==1.14.0->talos) (1.12.1)\n",
      "Requirement already satisfied: patsy>=0.5 in /usr/local/lib/python3.6/dist-packages (from statsmodels>=0.11.0->talos) (0.5.1)\n",
      "Requirement already satisfied: geonamescache in /usr/local/lib/python3.6/dist-packages (from astetik->talos) (1.1.0)\n",
      "Requirement already satisfied: chardet<4,>=3.0.2 in /usr/local/lib/python3.6/dist-packages (from requests->talos) (3.0.4)\n",
      "Requirement already satisfied: certifi>=2017.4.17 in /usr/local/lib/python3.6/dist-packages (from requests->talos) (2020.6.20)\n",
      "Requirement already satisfied: idna<3,>=2.5 in /usr/local/lib/python3.6/dist-packages (from requests->talos) (2.10)\n",
      "Requirement already satisfied: urllib3!=1.25.0,!=1.25.1,<1.26,>=1.21.1 in /usr/local/lib/python3.6/dist-packages (from requests->talos) (1.25.10)\n",
      "Requirement already satisfied: threadpoolctl>=2.0.0 in /usr/local/lib/python3.6/dist-packages (from scikit-learn->sklearn->talos) (2.2.0)\n",
      "Requirement already satisfied: joblib>=0.11 in /usr/local/lib/python3.6/dist-packages (from scikit-learn->sklearn->talos) (0.14.1)\n",
      "Requirement already satisfied: jedi>=0.10 in /usr/local/lib/python3.6/dist-packages (from ipython->kerasplotlib->talos) (0.16.0)\n",
      "Requirement already satisfied: prompt-toolkit!=3.0.0,!=3.0.1,<3.1.0,>=2.0.0 in /usr/local/lib/python3.6/dist-packages (from ipython->kerasplotlib->talos) (3.0.4)\n",
      "Requirement already satisfied: pexpect; sys_platform != \"win32\" in /usr/local/lib/python3.6/dist-packages (from ipython->kerasplotlib->talos) (4.8.0)\n",
      "Requirement already satisfied: traitlets>=4.2 in /usr/local/lib/python3.6/dist-packages (from ipython->kerasplotlib->talos) (4.3.3)\n",
      "Requirement already satisfied: pygments in /usr/local/lib/python3.6/dist-packages (from ipython->kerasplotlib->talos) (2.7.0)\n",
      "Requirement already satisfied: setuptools>=18.5 in /usr/local/lib/python3.6/dist-packages (from ipython->kerasplotlib->talos) (50.3.0)\n",
      "Requirement already satisfied: pickleshare in /usr/local/lib/python3.6/dist-packages (from ipython->kerasplotlib->talos) (0.7.5)\n",
      "Requirement already satisfied: decorator in /usr/local/lib/python3.6/dist-packages (from ipython->kerasplotlib->talos) (4.4.2)\n",
      "Requirement already satisfied: backcall in /usr/local/lib/python3.6/dist-packages (from ipython->kerasplotlib->talos) (0.1.0)\n",
      "Requirement already satisfied: markdown>=2.6.8 in /usr/local/lib/python3.6/dist-packages (from tensorboard<1.15.0,>=1.14.0->tensorflow==1.14.0->talos) (2.6.11)\n",
      "Requirement already satisfied: werkzeug>=0.11.15 in /usr/local/lib/python3.6/dist-packages (from tensorboard<1.15.0,>=1.14.0->tensorflow==1.14.0->talos) (0.16.1)\n",
      "Requirement already satisfied: parso>=0.5.2 in /usr/local/lib/python3.6/dist-packages (from jedi>=0.10->ipython->kerasplotlib->talos) (0.6.2)\n",
      "Requirement already satisfied: wcwidth in /usr/local/lib/python3.6/dist-packages (from prompt-toolkit!=3.0.0,!=3.0.1,<3.1.0,>=2.0.0->ipython->kerasplotlib->talos) (0.1.8)\n",
      "Requirement already satisfied: ptyprocess>=0.5 in /usr/local/lib/python3.6/dist-packages (from pexpect; sys_platform != \"win32\"->ipython->kerasplotlib->talos) (0.6.0)\n",
      "Requirement already satisfied: ipython-genutils in /usr/local/lib/python3.6/dist-packages (from traitlets>=4.2->ipython->kerasplotlib->talos) (0.2.0)\n",
      "\u001b[31mERROR: wrangle 0.6.7 has requirement scipy==1.2, but you'll have scipy 1.4.1 which is incompatible.\u001b[0m\n",
      "Installing collected packages: keras\n",
      "  Attempting uninstall: keras\n",
      "    Found existing installation: Keras 2.3.1\n",
      "    Uninstalling Keras-2.3.1:\n",
      "      Successfully uninstalled Keras-2.3.1\n",
      "Successfully installed keras-2.3.0\n",
      "\u001b[33mWARNING: You are using pip version 20.1.1; however, version 21.2.4 is available.\n",
      "You should consider upgrading via the '/usr/bin/python -m pip install --upgrade pip' command.\u001b[0m\n"
     ]
    }
   ],
   "metadata": {
    "ExecuteTime": {
     "end_time": "2021-08-17T10:20:43.645618Z",
     "start_time": "2021-08-17T10:20:38.846480Z"
    }
   }
  },
  {
   "cell_type": "code",
   "execution_count": null,
   "source": [],
   "outputs": [],
   "metadata": {}
  }
 ],
 "metadata": {
  "hide_input": false,
  "kernelspec": {
   "name": "python3",
   "display_name": "Python 3.9.5 64-bit"
  },
  "language_info": {
   "codemirror_mode": {
    "name": "ipython",
    "version": 3
   },
   "file_extension": ".py",
   "mimetype": "text/x-python",
   "name": "python",
   "nbconvert_exporter": "python",
   "pygments_lexer": "ipython3",
   "version": "3.9.5"
  },
  "interpreter": {
   "hash": "916dbcbb3f70747c44a77c7bcd40155683ae19c65e1c03b4aa3499c5328201f1"
  }
 },
 "nbformat": 4,
 "nbformat_minor": 4
}