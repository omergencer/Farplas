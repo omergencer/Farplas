{
 "cells": [
  {
   "cell_type": "code",
   "execution_count": 2,
   "source": [
    "\n",
    "import paho.mqtt.client as mqtt\n",
    "import time\n"
   ],
   "outputs": [],
   "metadata": {}
  },
  {
   "cell_type": "code",
   "execution_count": 16,
   "source": [
    "MQTT_BROKER_HOST = '192.168.7.17'\n",
    "MQTT_BROKER_PORT = 1883\n",
    "MQTT_KEEP_ALIVE_INTERVAL = 60"
   ],
   "outputs": [],
   "metadata": {}
  },
  {
   "cell_type": "code",
   "execution_count": 28,
   "source": [
    "def on_connect(client, userdata, flags, rc):\n",
    "    print(\"Connected with result code \" + str(rc))\n",
    "    #client.subscribe(\"e114_mchtim\")\n",
    "    #client.subscribe(\"e114_clc\")\n",
    "    client.subscribe(\"e114_anl\")"
   ],
   "outputs": [],
   "metadata": {}
  },
  {
   "cell_type": "code",
   "execution_count": 18,
   "source": [
    "def on_message(client, userdata, msg):\n",
    "    print(\"Message Recieved. \", msg.payload.decode())"
   ],
   "outputs": [],
   "metadata": {}
  },
  {
   "cell_type": "code",
   "execution_count": 29,
   "source": [
    "client = mqtt.Client()\n",
    "client.connect(MQTT_BROKER_HOST, MQTT_BROKER_PORT, MQTT_KEEP_ALIVE_INTERVAL)\n",
    "client.on_connect = on_connect\n",
    "client.on_message = on_message\n",
    "client.loop_forever()"
   ],
   "outputs": [
    {
     "output_type": "stream",
     "name": "stdout",
     "text": [
      "Connected with result code 0\n",
      "Message Recieved.  {\"timestamp\":1632829275483,\"values\":[{\"id\":\"E114-EA.ANL.current1\",\"v\":10.92,\"q\":true,\"t\":1632829275314},{\"id\":\"E114-EA.ANL.current2\",\"v\":5.2800000000000002,\"q\":true,\"t\":1632829275314},{\"id\":\"E114-EA.ANL.current3\",\"v\":8.6400000000000006,\"q\":true,\"t\":1632829275314},{\"id\":\"E114-EA.ANL.power\",\"v\":3.4706689453125001,\"q\":true,\"t\":1632829274242},{\"id\":\"E114-EA.ANL.totalCons\",\"v\":4785806360,\"q\":true,\"t\":1632829274568},{\"id\":\"E114-EA.ANL.voltage1\",\"v\":385.20000000000005,\"q\":true,\"t\":1632829275314},{\"id\":\"E114-EA.ANL.voltage2\",\"v\":383.90000000000003,\"q\":true,\"t\":1632829275314},{\"id\":\"E114-EA.ANL.voltage3\",\"v\":384.10000000000002,\"q\":true,\"t\":1632829275314},{\"id\":\"E114-EU.CC300.cntCycle\",\"v\":552,\"q\":true,\"t\":1632829274018}]}\n",
      "Message Recieved.  {\"timestamp\":1632829276483,\"values\":[{\"id\":\"E114-EA.ANL.current1\",\"v\":10.92,\"q\":true,\"t\":1632829275314},{\"id\":\"E114-EA.ANL.current2\",\"v\":5.2800000000000002,\"q\":true,\"t\":1632829275314},{\"id\":\"E114-EA.ANL.current3\",\"v\":8.6400000000000006,\"q\":true,\"t\":1632829275314},{\"id\":\"E114-EA.ANL.power\",\"v\":14.79181640625,\"q\":true,\"t\":1632829275645},{\"id\":\"E114-EA.ANL.totalCons\",\"v\":4785806420,\"q\":true,\"t\":1632829275982},{\"id\":\"E114-EA.ANL.voltage1\",\"v\":385.20000000000005,\"q\":true,\"t\":1632829275314},{\"id\":\"E114-EA.ANL.voltage2\",\"v\":383.90000000000003,\"q\":true,\"t\":1632829275314},{\"id\":\"E114-EA.ANL.voltage3\",\"v\":384.10000000000002,\"q\":true,\"t\":1632829275314},{\"id\":\"E114-EU.CC300.cntCycle\",\"v\":552,\"q\":true,\"t\":1632829276164}]}\n",
      "Message Recieved.  {\"timestamp\":1632829277482,\"values\":[{\"id\":\"E114-EA.ANL.current1\",\"v\":13.200000000000001,\"q\":true,\"t\":1632829276664},{\"id\":\"E114-EA.ANL.current2\",\"v\":8.7599999999999998,\"q\":true,\"t\":1632829276664},{\"id\":\"E114-EA.ANL.current3\",\"v\":7.4400000000000004,\"q\":true,\"t\":1632829276664},{\"id\":\"E114-EA.ANL.power\",\"v\":4.7450097656250003,\"q\":true,\"t\":1632829276989},{\"id\":\"E114-EA.ANL.totalCons\",\"v\":4785806430,\"q\":true,\"t\":1632829277320},{\"id\":\"E114-EA.ANL.voltage1\",\"v\":385.5,\"q\":true,\"t\":1632829276664},{\"id\":\"E114-EA.ANL.voltage2\",\"v\":383.90000000000003,\"q\":true,\"t\":1632829276664},{\"id\":\"E114-EA.ANL.voltage3\",\"v\":384.20000000000005,\"q\":true,\"t\":1632829276664},{\"id\":\"E114-EU.CC300.cntCycle\",\"v\":552,\"q\":true,\"t\":1632829276164}]}\n",
      "Message Recieved.  {\"timestamp\":1632829278483,\"values\":[{\"id\":\"E114-EA.ANL.current1\",\"v\":10.32,\"q\":true,\"t\":1632829278044},{\"id\":\"E114-EA.ANL.current2\",\"v\":2.2800000000000002,\"q\":true,\"t\":1632829278044},{\"id\":\"E114-EA.ANL.current3\",\"v\":2.6400000000000001,\"q\":true,\"t\":1632829278044},{\"id\":\"E114-EA.ANL.power\",\"v\":9.7067138671875011,\"q\":true,\"t\":1632829278380},{\"id\":\"E114-EA.ANL.totalCons\",\"v\":4785806430,\"q\":true,\"t\":1632829277320},{\"id\":\"E114-EA.ANL.voltage1\",\"v\":385.90000000000003,\"q\":true,\"t\":1632829278044},{\"id\":\"E114-EA.ANL.voltage2\",\"v\":384.5,\"q\":true,\"t\":1632829278044},{\"id\":\"E114-EA.ANL.voltage3\",\"v\":384.70000000000005,\"q\":true,\"t\":1632829278044},{\"id\":\"E114-EU.CC300.cntCycle\",\"v\":552,\"q\":true,\"t\":1632829278287}]}\n"
     ]
    },
    {
     "output_type": "error",
     "ename": "KeyboardInterrupt",
     "evalue": "",
     "traceback": [
      "\u001b[0;31m---------------------------------------------------------------------------\u001b[0m",
      "\u001b[0;31mKeyboardInterrupt\u001b[0m                         Traceback (most recent call last)",
      "\u001b[0;32m/tmp/ipykernel_77753/2064937702.py\u001b[0m in \u001b[0;36m<module>\u001b[0;34m\u001b[0m\n\u001b[1;32m      3\u001b[0m \u001b[0mclient\u001b[0m\u001b[0;34m.\u001b[0m\u001b[0mon_connect\u001b[0m \u001b[0;34m=\u001b[0m \u001b[0mon_connect\u001b[0m\u001b[0;34m\u001b[0m\u001b[0;34m\u001b[0m\u001b[0m\n\u001b[1;32m      4\u001b[0m \u001b[0mclient\u001b[0m\u001b[0;34m.\u001b[0m\u001b[0mon_message\u001b[0m \u001b[0;34m=\u001b[0m \u001b[0mon_message\u001b[0m\u001b[0;34m\u001b[0m\u001b[0;34m\u001b[0m\u001b[0m\n\u001b[0;32m----> 5\u001b[0;31m \u001b[0mclient\u001b[0m\u001b[0;34m.\u001b[0m\u001b[0mloop_forever\u001b[0m\u001b[0;34m(\u001b[0m\u001b[0;34m)\u001b[0m\u001b[0;34m\u001b[0m\u001b[0;34m\u001b[0m\u001b[0m\n\u001b[0m",
      "\u001b[0;32m~/.local/lib/python3.9/site-packages/paho/mqtt/client.py\u001b[0m in \u001b[0;36mloop_forever\u001b[0;34m(self, timeout, max_packets, retry_first_connection)\u001b[0m\n\u001b[1;32m   1777\u001b[0m             \u001b[0mrc\u001b[0m \u001b[0;34m=\u001b[0m \u001b[0mMQTT_ERR_SUCCESS\u001b[0m\u001b[0;34m\u001b[0m\u001b[0;34m\u001b[0m\u001b[0m\n\u001b[1;32m   1778\u001b[0m             \u001b[0;32mwhile\u001b[0m \u001b[0mrc\u001b[0m \u001b[0;34m==\u001b[0m \u001b[0mMQTT_ERR_SUCCESS\u001b[0m\u001b[0;34m:\u001b[0m\u001b[0;34m\u001b[0m\u001b[0;34m\u001b[0m\u001b[0m\n\u001b[0;32m-> 1779\u001b[0;31m                 \u001b[0mrc\u001b[0m \u001b[0;34m=\u001b[0m \u001b[0mself\u001b[0m\u001b[0;34m.\u001b[0m\u001b[0mloop\u001b[0m\u001b[0;34m(\u001b[0m\u001b[0mtimeout\u001b[0m\u001b[0;34m,\u001b[0m \u001b[0mmax_packets\u001b[0m\u001b[0;34m)\u001b[0m\u001b[0;34m\u001b[0m\u001b[0;34m\u001b[0m\u001b[0m\n\u001b[0m\u001b[1;32m   1780\u001b[0m                 \u001b[0;31m# We don't need to worry about locking here, because we've\u001b[0m\u001b[0;34m\u001b[0m\u001b[0;34m\u001b[0m\u001b[0;34m\u001b[0m\u001b[0m\n\u001b[1;32m   1781\u001b[0m                 \u001b[0;31m# either called loop_forever() when in single threaded mode, or\u001b[0m\u001b[0;34m\u001b[0m\u001b[0;34m\u001b[0m\u001b[0;34m\u001b[0m\u001b[0m\n",
      "\u001b[0;32m~/.local/lib/python3.9/site-packages/paho/mqtt/client.py\u001b[0m in \u001b[0;36mloop\u001b[0;34m(self, timeout, max_packets)\u001b[0m\n\u001b[1;32m   1165\u001b[0m         \u001b[0mrlist\u001b[0m \u001b[0;34m=\u001b[0m \u001b[0;34m[\u001b[0m\u001b[0mself\u001b[0m\u001b[0;34m.\u001b[0m\u001b[0m_sock\u001b[0m\u001b[0;34m,\u001b[0m \u001b[0mself\u001b[0m\u001b[0;34m.\u001b[0m\u001b[0m_sockpairR\u001b[0m\u001b[0;34m]\u001b[0m\u001b[0;34m\u001b[0m\u001b[0;34m\u001b[0m\u001b[0m\n\u001b[1;32m   1166\u001b[0m         \u001b[0;32mtry\u001b[0m\u001b[0;34m:\u001b[0m\u001b[0;34m\u001b[0m\u001b[0;34m\u001b[0m\u001b[0m\n\u001b[0;32m-> 1167\u001b[0;31m             \u001b[0msocklist\u001b[0m \u001b[0;34m=\u001b[0m \u001b[0mselect\u001b[0m\u001b[0;34m.\u001b[0m\u001b[0mselect\u001b[0m\u001b[0;34m(\u001b[0m\u001b[0mrlist\u001b[0m\u001b[0;34m,\u001b[0m \u001b[0mwlist\u001b[0m\u001b[0;34m,\u001b[0m \u001b[0;34m[\u001b[0m\u001b[0;34m]\u001b[0m\u001b[0;34m,\u001b[0m \u001b[0mtimeout\u001b[0m\u001b[0;34m)\u001b[0m\u001b[0;34m\u001b[0m\u001b[0;34m\u001b[0m\u001b[0m\n\u001b[0m\u001b[1;32m   1168\u001b[0m         \u001b[0;32mexcept\u001b[0m \u001b[0mTypeError\u001b[0m\u001b[0;34m:\u001b[0m\u001b[0;34m\u001b[0m\u001b[0;34m\u001b[0m\u001b[0m\n\u001b[1;32m   1169\u001b[0m             \u001b[0;31m# Socket isn't correct type, in likelihood connection is lost\u001b[0m\u001b[0;34m\u001b[0m\u001b[0;34m\u001b[0m\u001b[0;34m\u001b[0m\u001b[0m\n",
      "\u001b[0;31mKeyboardInterrupt\u001b[0m: "
     ]
    }
   ],
   "metadata": {}
  },
  {
   "cell_type": "code",
   "execution_count": null,
   "source": [],
   "outputs": [],
   "metadata": {}
  }
 ],
 "metadata": {
  "orig_nbformat": 4,
  "language_info": {
   "name": "python",
   "version": "3.9.5",
   "mimetype": "text/x-python",
   "codemirror_mode": {
    "name": "ipython",
    "version": 3
   },
   "pygments_lexer": "ipython3",
   "nbconvert_exporter": "python",
   "file_extension": ".py"
  },
  "kernelspec": {
   "name": "python3",
   "display_name": "Python 3.9.5 64-bit"
  },
  "interpreter": {
   "hash": "916dbcbb3f70747c44a77c7bcd40155683ae19c65e1c03b4aa3499c5328201f1"
  }
 },
 "nbformat": 4,
 "nbformat_minor": 2
}