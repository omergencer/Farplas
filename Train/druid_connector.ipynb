{
    "cells": [
        {
            "cell_type": "code",
            "execution_count": 18,
            "source": [
                "from pydruid.client import *\n",
                "from pylab import plt  # Need to have matplotlib installed\n",
                "from pydruid.db import connect\n",
                "import pandas as pd\n",
                "\n",
                "from pydruid import * \n",
                "from pydruid.client import * \n",
                "from pylab import plt \n",
                "from pydruid.query import QueryBuilder \n",
                "from pydruid.utils.postaggregator import * \n",
                "from pydruid.utils.aggregators import * \n",
                "from pydruid.utils.filters import *"
            ],
            "outputs": [],
            "metadata": {}
        },
        {
            "cell_type": "code",
            "execution_count": 2,
            "source": [
                "query = PyDruid('http://localhost:8083', 'druid/v2/')\n"
            ],
            "outputs": [],
            "metadata": {}
        },
        {
            "cell_type": "code",
            "execution_count": 15,
            "source": [
                "druid_host = \"localhost\"\n",
                "druid_port = 8888\n",
                "druid_path = \"/druid/v2/sql\"\n",
                "druid_scheme = \"http\"\n",
                "druid_query = \"SELECT * FROM '360_inj_cyc_e114_deneme' LIMIT 10\"    \n",
                "druid_connection = connect(host=druid_host, port=druid_port, path=druid_path, scheme=druid_scheme)\n",
                "druid_cursor= druid_connection.cursor()\n",
                "df = pd.DataFrame(druid_cursor.execute(druid_query))"
            ],
            "outputs": [
                {
                    "output_type": "error",
                    "ename": "ProgrammingError",
                    "evalue": "SQL parse failed (org.apache.calcite.sql.parser.SqlParseException): Encountered \"\\'360_inj_cyc_e114_deneme\\'\" at line 1, column 15.\nWas expecting one of:\n    \"LATERAL\" ...\n    \"TABLE\" ...\n    \"UNNEST\" ...\n    <IDENTIFIER> ...\n    <QUOTED_IDENTIFIER> ...\n    <BACK_QUOTED_IDENTIFIER> ...\n    <BRACKET_QUOTED_IDENTIFIER> ...\n    <UNICODE_QUOTED_IDENTIFIER> ...\n    \"(\" ...\n    ",
                    "traceback": [
                        "\u001b[0;31m---------------------------------------------------------------------------\u001b[0m",
                        "\u001b[0;31mProgrammingError\u001b[0m                          Traceback (most recent call last)",
                        "\u001b[0;32m/tmp/ipykernel_66080/2269191744.py\u001b[0m in \u001b[0;36m<module>\u001b[0;34m\u001b[0m\n\u001b[1;32m      6\u001b[0m \u001b[0mdruid_connection\u001b[0m \u001b[0;34m=\u001b[0m \u001b[0mconnect\u001b[0m\u001b[0;34m(\u001b[0m\u001b[0mhost\u001b[0m\u001b[0;34m=\u001b[0m\u001b[0mdruid_host\u001b[0m\u001b[0;34m,\u001b[0m \u001b[0mport\u001b[0m\u001b[0;34m=\u001b[0m\u001b[0mdruid_port\u001b[0m\u001b[0;34m,\u001b[0m \u001b[0mpath\u001b[0m\u001b[0;34m=\u001b[0m\u001b[0mdruid_path\u001b[0m\u001b[0;34m,\u001b[0m \u001b[0mscheme\u001b[0m\u001b[0;34m=\u001b[0m\u001b[0mdruid_scheme\u001b[0m\u001b[0;34m)\u001b[0m\u001b[0;34m\u001b[0m\u001b[0;34m\u001b[0m\u001b[0m\n\u001b[1;32m      7\u001b[0m \u001b[0mdruid_cursor\u001b[0m\u001b[0;34m=\u001b[0m \u001b[0mdruid_connection\u001b[0m\u001b[0;34m.\u001b[0m\u001b[0mcursor\u001b[0m\u001b[0;34m(\u001b[0m\u001b[0;34m)\u001b[0m\u001b[0;34m\u001b[0m\u001b[0;34m\u001b[0m\u001b[0m\n\u001b[0;32m----> 8\u001b[0;31m \u001b[0mdf\u001b[0m \u001b[0;34m=\u001b[0m \u001b[0mpd\u001b[0m\u001b[0;34m.\u001b[0m\u001b[0mDataFrame\u001b[0m\u001b[0;34m(\u001b[0m\u001b[0mdruid_cursor\u001b[0m\u001b[0;34m.\u001b[0m\u001b[0mexecute\u001b[0m\u001b[0;34m(\u001b[0m\u001b[0mdruid_query\u001b[0m\u001b[0;34m)\u001b[0m\u001b[0;34m)\u001b[0m\u001b[0;34m\u001b[0m\u001b[0;34m\u001b[0m\u001b[0m\n\u001b[0m",
                        "\u001b[0;32m~/.local/lib/python3.9/site-packages/pydruid/db/api.py\u001b[0m in \u001b[0;36mg\u001b[0;34m(self, *args, **kwargs)\u001b[0m\n\u001b[1;32m     60\u001b[0m                 \u001b[0;34m\"{klass} already closed\"\u001b[0m\u001b[0;34m.\u001b[0m\u001b[0mformat\u001b[0m\u001b[0;34m(\u001b[0m\u001b[0mklass\u001b[0m\u001b[0;34m=\u001b[0m\u001b[0mself\u001b[0m\u001b[0;34m.\u001b[0m\u001b[0m__class__\u001b[0m\u001b[0;34m.\u001b[0m\u001b[0m__name__\u001b[0m\u001b[0;34m)\u001b[0m\u001b[0;34m\u001b[0m\u001b[0;34m\u001b[0m\u001b[0m\n\u001b[1;32m     61\u001b[0m             )\n\u001b[0;32m---> 62\u001b[0;31m         \u001b[0;32mreturn\u001b[0m \u001b[0mf\u001b[0m\u001b[0;34m(\u001b[0m\u001b[0mself\u001b[0m\u001b[0;34m,\u001b[0m \u001b[0;34m*\u001b[0m\u001b[0margs\u001b[0m\u001b[0;34m,\u001b[0m \u001b[0;34m**\u001b[0m\u001b[0mkwargs\u001b[0m\u001b[0;34m)\u001b[0m\u001b[0;34m\u001b[0m\u001b[0;34m\u001b[0m\u001b[0m\n\u001b[0m\u001b[1;32m     63\u001b[0m \u001b[0;34m\u001b[0m\u001b[0m\n\u001b[1;32m     64\u001b[0m     \u001b[0;32mreturn\u001b[0m \u001b[0mg\u001b[0m\u001b[0;34m\u001b[0m\u001b[0;34m\u001b[0m\u001b[0m\n",
                        "\u001b[0;32m~/.local/lib/python3.9/site-packages/pydruid/db/api.py\u001b[0m in \u001b[0;36mexecute\u001b[0;34m(self, operation, parameters)\u001b[0m\n\u001b[1;32m    254\u001b[0m         \u001b[0;31m# consume it and insert it back if it is not the header.\u001b[0m\u001b[0;34m\u001b[0m\u001b[0;34m\u001b[0m\u001b[0;34m\u001b[0m\u001b[0m\n\u001b[1;32m    255\u001b[0m         \u001b[0;32mtry\u001b[0m\u001b[0;34m:\u001b[0m\u001b[0;34m\u001b[0m\u001b[0;34m\u001b[0m\u001b[0m\n\u001b[0;32m--> 256\u001b[0;31m             \u001b[0mfirst_row\u001b[0m \u001b[0;34m=\u001b[0m \u001b[0mnext\u001b[0m\u001b[0;34m(\u001b[0m\u001b[0mresults\u001b[0m\u001b[0;34m)\u001b[0m\u001b[0;34m\u001b[0m\u001b[0;34m\u001b[0m\u001b[0m\n\u001b[0m\u001b[1;32m    257\u001b[0m             self._results = (\n\u001b[1;32m    258\u001b[0m                 \u001b[0mresults\u001b[0m \u001b[0;32mif\u001b[0m \u001b[0mself\u001b[0m\u001b[0;34m.\u001b[0m\u001b[0mheader\u001b[0m \u001b[0;32melse\u001b[0m \u001b[0mitertools\u001b[0m\u001b[0;34m.\u001b[0m\u001b[0mchain\u001b[0m\u001b[0;34m(\u001b[0m\u001b[0;34m[\u001b[0m\u001b[0mfirst_row\u001b[0m\u001b[0;34m]\u001b[0m\u001b[0;34m,\u001b[0m \u001b[0mresults\u001b[0m\u001b[0;34m)\u001b[0m\u001b[0;34m\u001b[0m\u001b[0;34m\u001b[0m\u001b[0m\n",
                        "\u001b[0;32m~/.local/lib/python3.9/site-packages/pydruid/db/api.py\u001b[0m in \u001b[0;36m_stream_query\u001b[0;34m(self, query)\u001b[0m\n\u001b[1;32m    361\u001b[0m                 }\n\u001b[1;32m    362\u001b[0m             \u001b[0mmsg\u001b[0m \u001b[0;34m=\u001b[0m \u001b[0;34m\"{error} ({errorClass}): {errorMessage}\"\u001b[0m\u001b[0;34m.\u001b[0m\u001b[0mformat\u001b[0m\u001b[0;34m(\u001b[0m\u001b[0;34m**\u001b[0m\u001b[0mpayload\u001b[0m\u001b[0;34m)\u001b[0m\u001b[0;34m\u001b[0m\u001b[0;34m\u001b[0m\u001b[0m\n\u001b[0;32m--> 363\u001b[0;31m             \u001b[0;32mraise\u001b[0m \u001b[0mexceptions\u001b[0m\u001b[0;34m.\u001b[0m\u001b[0mProgrammingError\u001b[0m\u001b[0;34m(\u001b[0m\u001b[0mmsg\u001b[0m\u001b[0;34m)\u001b[0m\u001b[0;34m\u001b[0m\u001b[0;34m\u001b[0m\u001b[0m\n\u001b[0m\u001b[1;32m    364\u001b[0m \u001b[0;34m\u001b[0m\u001b[0m\n\u001b[1;32m    365\u001b[0m         \u001b[0;31m# Druid will stream the data in chunks of 8k bytes, splitting the JSON\u001b[0m\u001b[0;34m\u001b[0m\u001b[0;34m\u001b[0m\u001b[0;34m\u001b[0m\u001b[0m\n",
                        "\u001b[0;31mProgrammingError\u001b[0m: SQL parse failed (org.apache.calcite.sql.parser.SqlParseException): Encountered \"\\'360_inj_cyc_e114_deneme\\'\" at line 1, column 15.\nWas expecting one of:\n    \"LATERAL\" ...\n    \"TABLE\" ...\n    \"UNNEST\" ...\n    <IDENTIFIER> ...\n    <QUOTED_IDENTIFIER> ...\n    <BACK_QUOTED_IDENTIFIER> ...\n    <BRACKET_QUOTED_IDENTIFIER> ...\n    <UNICODE_QUOTED_IDENTIFIER> ...\n    \"(\" ...\n    "
                    ]
                }
            ],
            "metadata": {}
        },
        {
            "cell_type": "code",
            "execution_count": 73,
            "source": [
                "query = PyDruid('http://localhost:8888', 'druid/v2/')\n",
                "\n",
                "top_langs = query.groupby(\n",
                "    datasource = \"360_inj_cyc_e114_deneme\",\n",
                "    granularity='minute',\n",
                "    intervals='2013-10-04/2021-10-04',\n",
                "    dimensions=[\"decMold\", \"frcClamp\"],\n",
                "    filter=~(Dimension(\"reply_to_name\") == \"Not A Reply\"),\n",
                "    aggregations={\"count\": doublesum(\"count\")},\n",
                "    context={\"timeout\": 1000},\n",
                "    limit_spec={\n",
                "                \"type\": \"default\",\n",
                "                \"limit\": 1,\n",
                "                \"columns\" : [\"count\"]\n",
                "            }\n",
                ")\n",
                "\n",
                "print(top_langs)  # Do this if you want to see the raw JSON"
            ],
            "outputs": [
                {
                    "output_type": "stream",
                    "name": "stdout",
                    "text": [
                        "[{'version': 'v1', 'timestamp': '2020-11-30T14:04:00.000Z', 'event': {'frcClamp': '7636.9', 'count': 0.0, 'decMold': '2544'}}]\n"
                    ]
                }
            ],
            "metadata": {}
        },
        {
            "cell_type": "code",
            "execution_count": 89,
            "source": [
                "raw_data = query.scan(\n",
                "            datasource=\"360_inj_cyc_e114_deneme\",\n",
                "            granularity='all',\n",
                "            intervals='2013-06-14/2021-10-04',\n",
                "            limit=1,\n",
                "            columns = ['date', 'tmpMoldZone25'],\n",
                "            context={\"timeout\": 1000}\n",
                "        )\n",
                "print(raw_data)"
            ],
            "outputs": [
                {
                    "output_type": "stream",
                    "name": "stdout",
                    "text": [
                        "[{'segmentId': '360_inj_cyc_e114_deneme_2020-11-30T14:00:00.000Z_2020-11-30T15:00:00.000Z_2021-09-27T10:02:55.539Z', 'columns': ['date', 'tmpMoldZone25'], 'events': [{'date': '2020-11-30T11:04:45.000', 'tmpMoldZone25': 235.0}]}]\n"
                    ]
                }
            ],
            "metadata": {}
        },
        {
            "cell_type": "markdown",
            "source": [],
            "metadata": {}
        },
        {
            "cell_type": "code",
            "execution_count": 88,
            "source": [
                "raw_data[0]"
            ],
            "outputs": [
                {
                    "output_type": "execute_result",
                    "data": {
                        "text/plain": [
                            "{'segmentId': '360_inj_cyc_e114_deneme_2020-11-30T14:00:00.000Z_2020-11-30T15:00:00.000Z_2021-09-27T10:02:55.539Z',\n",
                            " 'columns': ['date',\n",
                            "  'tmpMoldZone25',\n",
                            "  'timCool1',\n",
                            "  'tmpBarrel2Zone3',\n",
                            "  'tmpMoldZone3',\n",
                            "  'tmpBarrel2Zone4',\n",
                            "  'tmpFlange1',\n",
                            "  'tmpMoldZone4',\n",
                            "  'tmpBarrel2Zone1',\n",
                            "  'tmpFlange2',\n",
                            "  'tmpMoldZone1',\n",
                            "  'volCushion1',\n",
                            "  'tmpBarrel2Zone2',\n",
                            "  'tmpMoldZone2',\n",
                            "  'volCushion2',\n",
                            "  'prsBackSpec2',\n",
                            "  'prsBackSpec1',\n",
                            "  'spdInjection1',\n",
                            "  'tmpMoldZone9',\n",
                            "  'spdInjection2',\n",
                            "  'tmpMoldZone7',\n",
                            "  'tmpMoldZone8'],\n",
                            " 'events': [{'date': '2020-11-30T11:04:45.000',\n",
                            "   'tmpMoldZone25': 235.0,\n",
                            "   'timCool1': 44.1,\n",
                            "   'tmpBarrel2Zone3': 230.1,\n",
                            "   'tmpMoldZone3': 254.9,\n",
                            "   'tmpBarrel2Zone4': 230.1,\n",
                            "   'tmpFlange1': 251.2,\n",
                            "   'tmpMoldZone4': 255.0,\n",
                            "   'tmpBarrel2Zone1': 235.0,\n",
                            "   'tmpFlange2': 235.6,\n",
                            "   'tmpMoldZone1': 254.9,\n",
                            "   'volCushion1': 36.36,\n",
                            "   'tmpBarrel2Zone2': 230.1,\n",
                            "   'tmpMoldZone2': 255.0,\n",
                            "   'volCushion2': 34.23,\n",
                            "   'prsBackSpec2': 307.2,\n",
                            "   'prsBackSpec1': 222.4,\n",
                            "   'spdInjection1': 77,\n",
                            "   'tmpMoldZone9': 254.9,\n",
                            "   'spdInjection2': 107,\n",
                            "   'tmpMoldZone7': 254.9,\n",
                            "   'tmpMoldZone8': 255.0}]}"
                        ]
                    },
                    "metadata": {},
                    "execution_count": 88
                }
            ],
            "metadata": {}
        },
        {
            "cell_type": "code",
            "execution_count": null,
            "source": [],
            "outputs": [],
            "metadata": {}
        }
    ],
    "metadata": {
        "orig_nbformat": 4,
        "language_info": {
            "name": "python",
            "version": "3.9.5",
            "mimetype": "text/x-python",
            "codemirror_mode": {
                "name": "ipython",
                "version": 3
            },
            "pygments_lexer": "ipython3",
            "nbconvert_exporter": "python",
            "file_extension": ".py"
        },
        "kernelspec": {
            "name": "python3",
            "display_name": "Python 3.9.5 64-bit"
        },
        "interpreter": {
            "hash": "916dbcbb3f70747c44a77c7bcd40155683ae19c65e1c03b4aa3499c5328201f1"
        }
    },
    "nbformat": 4,
    "nbformat_minor": 2
}