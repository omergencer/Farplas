{
    "cells": [
        {
            "cell_type": "code",
            "execution_count": 1,
            "source": [
                "#! /usr/bin/env python3\n",
                "import pymysql, pymssql, pickle,joblib, os\n",
                "from time import sleep\n",
                "import pandas as pd\n"
            ],
            "outputs": [],
            "metadata": {}
        },
        {
            "cell_type": "code",
            "execution_count": 2,
            "source": [
                "#DESCRIBE my_table;\n",
                "def connect1():\n",
                "    \"\"\"enj\"\"\"\n",
                "    db = pymysql.connect(host = \"192.168.7.17\", port = 3306, db = \"kepware\", user = \"nifiuser\", passwd = \"nHuSx6Y!\")\n",
                "    cursor = db.cursor()\n",
                "    cursor.execute(\"SELECT timestamp FROM e114 ORDER BY timestamp DESC LIMIT 1\")\n",
                "    out = cursor.fetchall()\n",
                "    db.close()\n",
                "    return out"
            ],
            "outputs": [],
            "metadata": {}
        },
        {
            "cell_type": "code",
            "execution_count": 3,
            "source": [
                "def connect2():\n",
                "    \"\"\"sfc\"\"\"\n",
                "    db = pymssql.connect(host = \"192.168.7.17\", port = 1433, database = \"sapSFC\", user = \"sqladmin\", password = \"Yby4TUgh\")\n",
                "    cursor = db.cursor()\n",
                "    cursor.execute(\"SELECT TOP(1)timestamp FROM injectionActive WHERE machine = 'E114' ORDER BY timestamp DESC\")\n",
                "    val = cursor.fetchall()\n",
                "    db.close()\n",
                "    return val"
            ],
            "outputs": [],
            "metadata": {}
        },
        {
            "cell_type": "code",
            "execution_count": 4,
            "source": [
                "from datetime import datetime\n",
                "type(connect1()[0][0])\n",
                "time = connect1()[0][0].strftime(\"%H:%M:%S\")\n",
                "print(\"time:\", time)"
            ],
            "outputs": [
                {
                    "output_type": "stream",
                    "name": "stdout",
                    "text": [
                        "time: 14:47:10\n"
                    ]
                }
            ],
            "metadata": {}
        },
        {
            "cell_type": "code",
            "execution_count": 5,
            "source": [
                "a = open('E114.txt','a')\n",
                "old_val = None\n",
                "old_sfc = None\n",
                "for x in range(200):\n",
                "    val = connect1()\n",
                "    val2 = connect2()\n",
                "\n",
                "    if val != old_val and val2 !=old_sfc:\n",
                "        old_val = val\n",
                "        old_sfc = val2\n",
                "        a.write(str(val[0][0].strftime(\"%H:%M:%S\"))+\"\\n\")\n",
                "        a.write(str(val2[0][0].strftime(\"%H:%M:%S\"))+\"\\n\\n\")\n",
                "        print(str(val[0][0].strftime(\"%H:%M:%S\"))+\"\\n\")\n",
                "        print(str(val2[0][0].strftime(\"%H:%M:%S\"))+\"\\n\\n\")\n",
                "        \n",
                "    sleep(5)\n",
                "a.close()"
            ],
            "outputs": [
                {
                    "output_type": "stream",
                    "name": "stdout",
                    "text": [
                        "14:47:10\n",
                        "\n",
                        "14:47:38\n",
                        "\n",
                        "\n",
                        "14:48:17\n",
                        "\n",
                        "14:47:38\n",
                        "\n",
                        "\n"
                    ]
                },
                {
                    "output_type": "error",
                    "ename": "KeyboardInterrupt",
                    "evalue": "",
                    "traceback": [
                        "\u001b[0;31m---------------------------------------------------------------------------\u001b[0m",
                        "\u001b[0;31mKeyboardInterrupt\u001b[0m                         Traceback (most recent call last)",
                        "\u001b[0;32m/tmp/ipykernel_8309/227443853.py\u001b[0m in \u001b[0;36m<module>\u001b[0;34m\u001b[0m\n\u001b[1;32m     10\u001b[0m         \u001b[0mprint\u001b[0m\u001b[0;34m(\u001b[0m\u001b[0mstr\u001b[0m\u001b[0;34m(\u001b[0m\u001b[0mconnect2\u001b[0m\u001b[0;34m(\u001b[0m\u001b[0;34m)\u001b[0m\u001b[0;34m[\u001b[0m\u001b[0;36m0\u001b[0m\u001b[0;34m]\u001b[0m\u001b[0;34m[\u001b[0m\u001b[0;36m0\u001b[0m\u001b[0;34m]\u001b[0m\u001b[0;34m.\u001b[0m\u001b[0mstrftime\u001b[0m\u001b[0;34m(\u001b[0m\u001b[0;34m\"%H:%M:%S\"\u001b[0m\u001b[0;34m)\u001b[0m\u001b[0;34m)\u001b[0m\u001b[0;34m+\u001b[0m\u001b[0;34m\"\\n\\n\"\u001b[0m\u001b[0;34m)\u001b[0m\u001b[0;34m\u001b[0m\u001b[0;34m\u001b[0m\u001b[0m\n\u001b[1;32m     11\u001b[0m \u001b[0;34m\u001b[0m\u001b[0m\n\u001b[0;32m---> 12\u001b[0;31m     \u001b[0msleep\u001b[0m\u001b[0;34m(\u001b[0m\u001b[0;36m5\u001b[0m\u001b[0;34m)\u001b[0m\u001b[0;34m\u001b[0m\u001b[0;34m\u001b[0m\u001b[0m\n\u001b[0m\u001b[1;32m     13\u001b[0m \u001b[0ma\u001b[0m\u001b[0;34m.\u001b[0m\u001b[0mclose\u001b[0m\u001b[0;34m(\u001b[0m\u001b[0;34m)\u001b[0m\u001b[0;34m\u001b[0m\u001b[0;34m\u001b[0m\u001b[0m\n",
                        "\u001b[0;31mKeyboardInterrupt\u001b[0m: "
                    ]
                }
            ],
            "metadata": {}
        },
        {
            "cell_type": "code",
            "execution_count": null,
            "source": [],
            "outputs": [],
            "metadata": {}
        },
        {
            "cell_type": "code",
            "execution_count": 5,
            "source": [
                "import csv\n",
                "\n",
                "f = open('owo.csv', 'a')\n",
                "header = ['name', 'area', 'country_code2', 'country_code3']\n",
                "writer = csv.writer(f)\n",
                "writer.writerow(header)\n",
                "\n",
                "tmp114 = []\n",
                "matched = []\n",
                "\n",
                "try:\n",
                "    while True:\n",
                "        enj = connect1()\n",
                "        if tmp114 == [] or enj != tmp114[-1]:\n",
                "            tmp114.append(enj[0])\n",
                "        sfc = connect2()[0]\n",
                "        if \"E012\" in sfc:#E080\n",
                "            matched.append(tmp114.pop(0) + sfc)\n",
                "            matched[-1]\n",
                "            writer.writerow(matched[-1])\n",
                "        sleep(10)\n",
                "except KeyboardInterrupt:\n",
                "    f.close()\n"
            ],
            "outputs": [],
            "metadata": {}
        },
        {
            "cell_type": "code",
            "execution_count": null,
            "source": [
                "a = [1,2,3]\n",
                "a+[4]"
            ],
            "outputs": [],
            "metadata": {}
        },
        {
            "cell_type": "code",
            "execution_count": null,
            "source": [],
            "outputs": [],
            "metadata": {}
        }
    ],
    "metadata": {
        "orig_nbformat": 4,
        "language_info": {
            "name": "python",
            "version": "3.9.5",
            "mimetype": "text/x-python",
            "codemirror_mode": {
                "name": "ipython",
                "version": 3
            },
            "pygments_lexer": "ipython3",
            "nbconvert_exporter": "python",
            "file_extension": ".py"
        },
        "kernelspec": {
            "name": "python3",
            "display_name": "Python 3.9.5 64-bit"
        },
        "interpreter": {
            "hash": "916dbcbb3f70747c44a77c7bcd40155683ae19c65e1c03b4aa3499c5328201f1"
        }
    },
    "nbformat": 4,
    "nbformat_minor": 2
}