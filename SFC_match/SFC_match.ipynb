{
    "cells": [
        {
            "cell_type": "code",
            "execution_count": 1,
            "source": [
                "#! /usr/bin/env python3\n",
                "import pymysql, pymssql, pickle,joblib, os"
            ],
            "outputs": [],
            "metadata": {}
        },
        {
            "cell_type": "code",
            "execution_count": 2,
            "source": [
                "#DESCRIBE my_table;\n",
                "def connect1():\n",
                "    \"\"\"enj\"\"\"\n",
                "    db = pymysql.connect(host = \"192.168.7.17\", port = 3306, db = \"kepware\", user = \"nifiuser\", passwd = \"nHuSx6Y!\")\n",
                "    cursor = db.cursor()\n",
                "    cursor.execute(\"SELECT decMold FROM e114 ORDER BY timestamp DESC LIMIT 1\")\n",
                "    out = cursor.fetchall()\n",
                "    db.close()\n",
                "    return out"
            ],
            "outputs": [],
            "metadata": {}
        },
        {
            "cell_type": "code",
            "execution_count": 3,
            "source": [
                "def connect2():\n",
                "    \"\"\"sfc\"\"\"\n",
                "    db = pymssql.connect(host = \"192.168.7.17\", port = 1433, database = \"sapSFC\", user = \"sqladmin\", password = \"Yby4TUgh\")\n",
                "    cursor = db.cursor()\n",
                "    cursor.execute(\"SELECT TOP(1)* FROM injectionScrap ORDER BY timestamp DESC\")\n",
                "    val = cursor.fetchall()\n",
                "    db.close()\n",
                "    return val"
            ],
            "outputs": [],
            "metadata": {}
        },
        {
            "cell_type": "code",
            "execution_count": 4,
            "source": [
                "tmp114 = [None]\n",
                "(('2560',),) == tmp114[-1]"
            ],
            "outputs": [
                {
                    "output_type": "execute_result",
                    "data": {
                        "text/plain": [
                            "False"
                        ]
                    },
                    "metadata": {},
                    "execution_count": 4
                }
            ],
            "metadata": {}
        },
        {
            "cell_type": "code",
            "execution_count": 5,
            "source": [
                "from time import sleep\n",
                "import csv\n",
                "\n",
                "f = open('owo.csv', 'a')\n",
                "header = ['name', 'area', 'country_code2', 'country_code3']\n",
                "writer = csv.writer(f)\n",
                "writer.writerow(header)\n",
                "\n",
                "tmp114 = []\n",
                "matched = []\n",
                "\n",
                "try:\n",
                "    while True:\n",
                "        enj = connect1()\n",
                "        if tmp114 == [] or enj != tmp114[-1]:\n",
                "            tmp114.append(enj[0])\n",
                "        sfc = connect2()[0]\n",
                "        if \"E012\" in sfc:#E080\n",
                "            matched.append(tmp114.pop(0) + sfc)\n",
                "            matched[-1]\n",
                "            writer.writerow(matched[-1])\n",
                "        sleep(10)\n",
                "except KeyboardInterrupt:\n",
                "    f.close()\n"
            ],
            "outputs": [],
            "metadata": {}
        },
        {
            "cell_type": "code",
            "execution_count": null,
            "source": [
                "a = [1,2,3]\n",
                "a+[4]"
            ],
            "outputs": [],
            "metadata": {}
        },
        {
            "cell_type": "code",
            "execution_count": null,
            "source": [],
            "outputs": [],
            "metadata": {}
        }
    ],
    "metadata": {
        "orig_nbformat": 4,
        "language_info": {
            "name": "python",
            "version": "3.9.5",
            "mimetype": "text/x-python",
            "codemirror_mode": {
                "name": "ipython",
                "version": 3
            },
            "pygments_lexer": "ipython3",
            "nbconvert_exporter": "python",
            "file_extension": ".py"
        },
        "kernelspec": {
            "name": "python3",
            "display_name": "Python 3.9.5 64-bit"
        },
        "interpreter": {
            "hash": "916dbcbb3f70747c44a77c7bcd40155683ae19c65e1c03b4aa3499c5328201f1"
        }
    },
    "nbformat": 4,
    "nbformat_minor": 2
}