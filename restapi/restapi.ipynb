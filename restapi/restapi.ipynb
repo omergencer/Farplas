{
 "cells": [
  {
   "cell_type": "code",
   "execution_count": 22,
   "source": [
    "from flask import Flask, request, jsonify\n",
    "from flask_sqlalchemy import  SQLAlchemy\n",
    "from flask_marshmallow import Marshmallow\n",
    "import json\n",
    "import mysql.connector\n"
   ],
   "outputs": [],
   "metadata": {}
  },
  {
   "cell_type": "code",
   "execution_count": 28,
   "source": [
    "\n",
    "def connect():\n",
    "    \"\"\"enj\"\"\"\n",
    "    db = mysql.connector.connect(host = \"192.168.7.17\", port = 3306, db = \"kepware\", user = \"nifiuser\", passwd = \"nHuSx6Y!\")\n",
    "    cursor = db.cursor(dictionary=True)\n",
    "    cursor.execute(\"SELECT * FROM e117 ORDER BY timestamp DESC LIMIT 1\")\n",
    "    #row_headers=[x[0] for x in cursor.description] #this will extract row headers\n",
    "    out = cursor.fetchall()\n",
    "    db.close()\n",
    "    return json.dumps(out,indent=4,sort_keys=True, default=str)\n",
    "\n",
    "a = connect()\n",
    "print(a)"
   ],
   "outputs": [
    {
     "output_type": "stream",
     "name": "stdout",
     "text": [
      "[\n",
      "    {\n",
      "        \"cntCycle\": 2401,\n",
      "        \"decMold\": \"2535\",\n",
      "        \"frcClamp\": 4000.0,\n",
      "        \"prsHoldSpec1\": 572.0,\n",
      "        \"prsInjectionHyd1\": 47.2,\n",
      "        \"prsPomp1\": 77.0,\n",
      "        \"prsTransferHyd1\": 37.68,\n",
      "        \"spdInjection1\": 33.2,\n",
      "        \"strCushion1\": 33.3,\n",
      "        \"strPlasticisation1\": 109.9,\n",
      "        \"strTransfer1\": 38.0,\n",
      "        \"stsMachine\": \"0A000\",\n",
      "        \"timCool1\": 16.0,\n",
      "        \"timCycle\": 42.84,\n",
      "        \"timFill1\": 4.81,\n",
      "        \"timMoldClose\": 2.03,\n",
      "        \"timMoldOpen\": 2.07,\n",
      "        \"timPlasticisation1\": 7.59,\n",
      "        \"timTransfer1\": 12.0,\n",
      "        \"timestamp\": \"2021-09-30 00:46:20\",\n",
      "        \"tmpBarrel1Zone1\": 265.0,\n",
      "        \"tmpBarrel1Zone2\": 280.0,\n",
      "        \"tmpBarrel1Zone3\": 280.0,\n",
      "        \"tmpBarrel1Zone4\": 295.0,\n",
      "        \"tmpBarrel1Zone5\": 300.0,\n",
      "        \"tmpFlange1\": 50.0,\n",
      "        \"tmpMoldZone1\": 300.0,\n",
      "        \"tmpMoldZone10\": 0.0,\n",
      "        \"tmpMoldZone11\": 0.0,\n",
      "        \"tmpMoldZone12\": 0.0,\n",
      "        \"tmpMoldZone13\": 0.0,\n",
      "        \"tmpMoldZone14\": 0.0,\n",
      "        \"tmpMoldZone15\": 0.0,\n",
      "        \"tmpMoldZone16\": 0.0,\n",
      "        \"tmpMoldZone17\": 0.0,\n",
      "        \"tmpMoldZone18\": 0.0,\n",
      "        \"tmpMoldZone19\": 0.0,\n",
      "        \"tmpMoldZone2\": 310.0,\n",
      "        \"tmpMoldZone20\": 0.0,\n",
      "        \"tmpMoldZone3\": 310.0,\n",
      "        \"tmpMoldZone4\": 309.0,\n",
      "        \"tmpMoldZone5\": 310.0,\n",
      "        \"tmpMoldZone6\": 310.0,\n",
      "        \"tmpMoldZone7\": 310.0,\n",
      "        \"tmpMoldZone8\": 310.0,\n",
      "        \"tmpMoldZone9\": 0.0,\n",
      "        \"tmpNozle1\": 250.0,\n",
      "        \"tmpOil\": 41.0,\n",
      "        \"volShot1\": 266.7,\n",
      "        \"volTransfer1\": 250.4\n",
      "    }\n",
      "]\n"
     ]
    }
   ],
   "metadata": {}
  },
  {
   "cell_type": "code",
   "execution_count": null,
   "source": [
    "old_val = None\n",
    "\n",
    "def get():\n",
    "    old_val = None\n",
    "    val = connect()\n",
    "    if val != old_val:\n",
    "        old_val = val\n",
    "        print(list(val))\n",
    "    return jsonify(val)\n"
   ],
   "outputs": [],
   "metadata": {}
  }
 ],
 "metadata": {
  "orig_nbformat": 4,
  "language_info": {
   "name": "python",
   "version": "3.9.5",
   "mimetype": "text/x-python",
   "codemirror_mode": {
    "name": "ipython",
    "version": 3
   },
   "pygments_lexer": "ipython3",
   "nbconvert_exporter": "python",
   "file_extension": ".py"
  },
  "kernelspec": {
   "name": "python3",
   "display_name": "Python 3.9.5 64-bit"
  },
  "interpreter": {
   "hash": "916dbcbb3f70747c44a77c7bcd40155683ae19c65e1c03b4aa3499c5328201f1"
  }
 },
 "nbformat": 4,
 "nbformat_minor": 2
}